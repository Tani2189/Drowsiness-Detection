{
 "cells": [
  {
   "cell_type": "code",
   "execution_count": 3,
   "id": "7ead9beb",
   "metadata": {},
   "outputs": [],
   "source": [
    "import tensorflow as tf\n",
    "from tensorflow.keras.applications import InceptionV3\n",
    "from tensorflow.keras.models import Model\n",
    "from tensorflow.keras.layers import Dropout,Input,Flatten,Dense,MaxPooling2D\n",
    "from tensorflow.keras.preprocessing.image import ImageDataGenerator #Data augmentation"
   ]
  },
  {
   "cell_type": "code",
   "execution_count": 29,
   "id": "adfb1bee",
   "metadata": {},
   "outputs": [],
   "source": [
    "batchsize =16"
   ]
  },
  {
   "cell_type": "markdown",
   "id": "1fc9f736",
   "metadata": {},
   "source": [
    "# Train data generator"
   ]
  },
  {
   "cell_type": "code",
   "execution_count": 10,
   "id": "3715bebc",
   "metadata": {},
   "outputs": [],
   "source": [
    "train_Data_gen = ImageDataGenerator(rescale=1./255, rotation_range=0.3, height_shift_range= 0.3, shear_range=0.3, width_shift_range=0.3, zoom_range= 0.3, validation_split=0.2)"
   ]
  },
  {
   "cell_type": "code",
   "execution_count": 11,
   "id": "ef41a17d",
   "metadata": {},
   "outputs": [
    {
     "name": "stdout",
     "output_type": "stream",
     "text": [
      "Found 54334 images belonging to 2 classes.\n",
      "Found 13583 images belonging to 2 classes.\n"
     ]
    }
   ],
   "source": [
    "train_data = train_Data_gen.flow_from_directory(r'C:\\Users\\Tanishq\\Drowsiness Detection\\Prepared_Data(2)\\train',\n",
    "                                               target_size=(80,80), batch_size=batchsize, class_mode='categorical', subset = 'training')\n",
    "validation_data = train_Data_gen.flow_from_directory(r'C:\\Users\\Tanishq\\Drowsiness Detection\\Prepared_Data(2)\\train',\n",
    "                                               target_size=(80,80), batch_size=batchsize, class_mode='categorical', subset = 'validation')"
   ]
  },
  {
   "cell_type": "markdown",
   "id": "dd17e2f2",
   "metadata": {},
   "source": [
    "# Test data generator"
   ]
  },
  {
   "cell_type": "code",
   "execution_count": 12,
   "id": "d8ec15a2",
   "metadata": {},
   "outputs": [],
   "source": [
    "test_data_gen = ImageDataGenerator(rescale=1./255) #here only rescale no need for other options."
   ]
  },
  {
   "cell_type": "code",
   "execution_count": 13,
   "id": "25d2ee51",
   "metadata": {},
   "outputs": [
    {
     "name": "stdout",
     "output_type": "stream",
     "text": [
      "Found 16981 images belonging to 2 classes.\n"
     ]
    }
   ],
   "source": [
    "test_data = test_data_gen.flow_from_directory(r'C:\\Users\\Tanishq\\Drowsiness Detection\\Prepared_Data(2)\\test',\n",
    "                                               target_size=(80,80), batch_size=batchsize, class_mode='categorical')"
   ]
  },
  {
   "cell_type": "markdown",
   "id": "4bddb7e8",
   "metadata": {},
   "source": [
    "# Model training"
   ]
  },
  {
   "cell_type": "code",
   "execution_count": 23,
   "id": "d16c9a06",
   "metadata": {},
   "outputs": [],
   "source": [
    "base_model  = InceptionV3(include_top=False, weights='imagenet', input_tensor=Input(shape=(80,80,3)))\n",
    "h_model = base_model.output\n",
    "h_model = Flatten()(h_model)\n",
    "h_model = Dense(64, activation='relu')(h_model)\n",
    "h_model = Dropout(0.5)(h_model) #for preventing overfitting.\n",
    "h_model = Dense(2, activation = 'softmax')(h_model) #earlier it was 1000 classes but now we have only 2 classes oen and close eyes.\n",
    "\n",
    "#final model.\n",
    "model = Model(inputs = base_model.input, outputs= h_model) \n",
    "#here as we are using transfer learning, we don't need to treain by scratch, we will just use the knowlage of inceptionv3 or anyother models.\n",
    "\n",
    "for layer in base_model.layers:\n",
    "    layer.trainable = False # now it'll fuse the inbetween layer as we will be only using the knowlage"
   ]
  },
  {
   "cell_type": "code",
   "execution_count": 24,
   "id": "709235bc",
   "metadata": {},
   "outputs": [
    {
     "name": "stdout",
     "output_type": "stream",
     "text": [
      "Model: \"model\"\n",
      "__________________________________________________________________________________________________\n",
      " Layer (type)                   Output Shape         Param #     Connected to                     \n",
      "==================================================================================================\n",
      " input_6 (InputLayer)           [(None, 80, 80, 3)]  0           []                               \n",
      "                                                                                                  \n",
      " conv2d_470 (Conv2D)            (None, 39, 39, 32)   864         ['input_6[0][0]']                \n",
      "                                                                                                  \n",
      " batch_normalization_470 (Batch  (None, 39, 39, 32)  96          ['conv2d_470[0][0]']             \n",
      " Normalization)                                                                                   \n",
      "                                                                                                  \n",
      " activation_470 (Activation)    (None, 39, 39, 32)   0           ['batch_normalization_470[0][0]']\n",
      "                                                                                                  \n",
      " conv2d_471 (Conv2D)            (None, 37, 37, 32)   9216        ['activation_470[0][0]']         \n",
      "                                                                                                  \n",
      " batch_normalization_471 (Batch  (None, 37, 37, 32)  96          ['conv2d_471[0][0]']             \n",
      " Normalization)                                                                                   \n",
      "                                                                                                  \n",
      " activation_471 (Activation)    (None, 37, 37, 32)   0           ['batch_normalization_471[0][0]']\n",
      "                                                                                                  \n",
      " conv2d_472 (Conv2D)            (None, 37, 37, 64)   18432       ['activation_471[0][0]']         \n",
      "                                                                                                  \n",
      " batch_normalization_472 (Batch  (None, 37, 37, 64)  192         ['conv2d_472[0][0]']             \n",
      " Normalization)                                                                                   \n",
      "                                                                                                  \n",
      " activation_472 (Activation)    (None, 37, 37, 64)   0           ['batch_normalization_472[0][0]']\n",
      "                                                                                                  \n",
      " max_pooling2d_20 (MaxPooling2D  (None, 18, 18, 64)  0           ['activation_472[0][0]']         \n",
      " )                                                                                                \n",
      "                                                                                                  \n",
      " conv2d_473 (Conv2D)            (None, 18, 18, 80)   5120        ['max_pooling2d_20[0][0]']       \n",
      "                                                                                                  \n",
      " batch_normalization_473 (Batch  (None, 18, 18, 80)  240         ['conv2d_473[0][0]']             \n",
      " Normalization)                                                                                   \n",
      "                                                                                                  \n",
      " activation_473 (Activation)    (None, 18, 18, 80)   0           ['batch_normalization_473[0][0]']\n",
      "                                                                                                  \n",
      " conv2d_474 (Conv2D)            (None, 16, 16, 192)  138240      ['activation_473[0][0]']         \n",
      "                                                                                                  \n",
      " batch_normalization_474 (Batch  (None, 16, 16, 192)  576        ['conv2d_474[0][0]']             \n",
      " Normalization)                                                                                   \n",
      "                                                                                                  \n",
      " activation_474 (Activation)    (None, 16, 16, 192)  0           ['batch_normalization_474[0][0]']\n",
      "                                                                                                  \n",
      " max_pooling2d_21 (MaxPooling2D  (None, 7, 7, 192)   0           ['activation_474[0][0]']         \n",
      " )                                                                                                \n",
      "                                                                                                  \n",
      " conv2d_478 (Conv2D)            (None, 7, 7, 64)     12288       ['max_pooling2d_21[0][0]']       \n",
      "                                                                                                  \n",
      " batch_normalization_478 (Batch  (None, 7, 7, 64)    192         ['conv2d_478[0][0]']             \n",
      " Normalization)                                                                                   \n",
      "                                                                                                  \n",
      " activation_478 (Activation)    (None, 7, 7, 64)     0           ['batch_normalization_478[0][0]']\n",
      "                                                                                                  \n",
      " conv2d_476 (Conv2D)            (None, 7, 7, 48)     9216        ['max_pooling2d_21[0][0]']       \n",
      "                                                                                                  \n",
      " conv2d_479 (Conv2D)            (None, 7, 7, 96)     55296       ['activation_478[0][0]']         \n",
      "                                                                                                  \n",
      " batch_normalization_476 (Batch  (None, 7, 7, 48)    144         ['conv2d_476[0][0]']             \n",
      " Normalization)                                                                                   \n",
      "                                                                                                  \n",
      " batch_normalization_479 (Batch  (None, 7, 7, 96)    288         ['conv2d_479[0][0]']             \n",
      " Normalization)                                                                                   \n",
      "                                                                                                  \n",
      " activation_476 (Activation)    (None, 7, 7, 48)     0           ['batch_normalization_476[0][0]']\n",
      "                                                                                                  \n",
      " activation_479 (Activation)    (None, 7, 7, 96)     0           ['batch_normalization_479[0][0]']\n",
      "                                                                                                  \n",
      " average_pooling2d_45 (AverageP  (None, 7, 7, 192)   0           ['max_pooling2d_21[0][0]']       \n",
      " ooling2D)                                                                                        \n",
      "                                                                                                  \n",
      " conv2d_475 (Conv2D)            (None, 7, 7, 64)     12288       ['max_pooling2d_21[0][0]']       \n",
      "                                                                                                  \n",
      " conv2d_477 (Conv2D)            (None, 7, 7, 64)     76800       ['activation_476[0][0]']         \n",
      "                                                                                                  \n",
      " conv2d_480 (Conv2D)            (None, 7, 7, 96)     82944       ['activation_479[0][0]']         \n",
      "                                                                                                  \n",
      " conv2d_481 (Conv2D)            (None, 7, 7, 32)     6144        ['average_pooling2d_45[0][0]']   \n",
      "                                                                                                  \n",
      " batch_normalization_475 (Batch  (None, 7, 7, 64)    192         ['conv2d_475[0][0]']             \n",
      " Normalization)                                                                                   \n",
      "                                                                                                  \n",
      " batch_normalization_477 (Batch  (None, 7, 7, 64)    192         ['conv2d_477[0][0]']             \n",
      " Normalization)                                                                                   \n"
     ]
    },
    {
     "name": "stdout",
     "output_type": "stream",
     "text": [
      "                                                                                                  \n",
      " batch_normalization_480 (Batch  (None, 7, 7, 96)    288         ['conv2d_480[0][0]']             \n",
      " Normalization)                                                                                   \n",
      "                                                                                                  \n",
      " batch_normalization_481 (Batch  (None, 7, 7, 32)    96          ['conv2d_481[0][0]']             \n",
      " Normalization)                                                                                   \n",
      "                                                                                                  \n",
      " activation_475 (Activation)    (None, 7, 7, 64)     0           ['batch_normalization_475[0][0]']\n",
      "                                                                                                  \n",
      " activation_477 (Activation)    (None, 7, 7, 64)     0           ['batch_normalization_477[0][0]']\n",
      "                                                                                                  \n",
      " activation_480 (Activation)    (None, 7, 7, 96)     0           ['batch_normalization_480[0][0]']\n",
      "                                                                                                  \n",
      " activation_481 (Activation)    (None, 7, 7, 32)     0           ['batch_normalization_481[0][0]']\n",
      "                                                                                                  \n",
      " mixed0 (Concatenate)           (None, 7, 7, 256)    0           ['activation_475[0][0]',         \n",
      "                                                                  'activation_477[0][0]',         \n",
      "                                                                  'activation_480[0][0]',         \n",
      "                                                                  'activation_481[0][0]']         \n",
      "                                                                                                  \n",
      " conv2d_485 (Conv2D)            (None, 7, 7, 64)     16384       ['mixed0[0][0]']                 \n",
      "                                                                                                  \n",
      " batch_normalization_485 (Batch  (None, 7, 7, 64)    192         ['conv2d_485[0][0]']             \n",
      " Normalization)                                                                                   \n",
      "                                                                                                  \n",
      " activation_485 (Activation)    (None, 7, 7, 64)     0           ['batch_normalization_485[0][0]']\n",
      "                                                                                                  \n",
      " conv2d_483 (Conv2D)            (None, 7, 7, 48)     12288       ['mixed0[0][0]']                 \n",
      "                                                                                                  \n",
      " conv2d_486 (Conv2D)            (None, 7, 7, 96)     55296       ['activation_485[0][0]']         \n",
      "                                                                                                  \n",
      " batch_normalization_483 (Batch  (None, 7, 7, 48)    144         ['conv2d_483[0][0]']             \n",
      " Normalization)                                                                                   \n",
      "                                                                                                  \n",
      " batch_normalization_486 (Batch  (None, 7, 7, 96)    288         ['conv2d_486[0][0]']             \n",
      " Normalization)                                                                                   \n",
      "                                                                                                  \n",
      " activation_483 (Activation)    (None, 7, 7, 48)     0           ['batch_normalization_483[0][0]']\n",
      "                                                                                                  \n",
      " activation_486 (Activation)    (None, 7, 7, 96)     0           ['batch_normalization_486[0][0]']\n",
      "                                                                                                  \n",
      " average_pooling2d_46 (AverageP  (None, 7, 7, 256)   0           ['mixed0[0][0]']                 \n",
      " ooling2D)                                                                                        \n",
      "                                                                                                  \n",
      " conv2d_482 (Conv2D)            (None, 7, 7, 64)     16384       ['mixed0[0][0]']                 \n",
      "                                                                                                  \n",
      " conv2d_484 (Conv2D)            (None, 7, 7, 64)     76800       ['activation_483[0][0]']         \n",
      "                                                                                                  \n",
      " conv2d_487 (Conv2D)            (None, 7, 7, 96)     82944       ['activation_486[0][0]']         \n",
      "                                                                                                  \n",
      " conv2d_488 (Conv2D)            (None, 7, 7, 64)     16384       ['average_pooling2d_46[0][0]']   \n",
      "                                                                                                  \n",
      " batch_normalization_482 (Batch  (None, 7, 7, 64)    192         ['conv2d_482[0][0]']             \n",
      " Normalization)                                                                                   \n",
      "                                                                                                  \n",
      " batch_normalization_484 (Batch  (None, 7, 7, 64)    192         ['conv2d_484[0][0]']             \n",
      " Normalization)                                                                                   \n",
      "                                                                                                  \n",
      " batch_normalization_487 (Batch  (None, 7, 7, 96)    288         ['conv2d_487[0][0]']             \n",
      " Normalization)                                                                                   \n",
      "                                                                                                  \n",
      " batch_normalization_488 (Batch  (None, 7, 7, 64)    192         ['conv2d_488[0][0]']             \n",
      " Normalization)                                                                                   \n",
      "                                                                                                  \n",
      " activation_482 (Activation)    (None, 7, 7, 64)     0           ['batch_normalization_482[0][0]']\n",
      "                                                                                                  \n",
      " activation_484 (Activation)    (None, 7, 7, 64)     0           ['batch_normalization_484[0][0]']\n",
      "                                                                                                  \n",
      " activation_487 (Activation)    (None, 7, 7, 96)     0           ['batch_normalization_487[0][0]']\n",
      "                                                                                                  \n",
      " activation_488 (Activation)    (None, 7, 7, 64)     0           ['batch_normalization_488[0][0]']\n",
      "                                                                                                  \n",
      " mixed1 (Concatenate)           (None, 7, 7, 288)    0           ['activation_482[0][0]',         \n",
      "                                                                  'activation_484[0][0]',         \n",
      "                                                                  'activation_487[0][0]',         \n",
      "                                                                  'activation_488[0][0]']         \n",
      "                                                                                                  \n",
      " conv2d_492 (Conv2D)            (None, 7, 7, 64)     18432       ['mixed1[0][0]']                 \n",
      "                                                                                                  \n",
      " batch_normalization_492 (Batch  (None, 7, 7, 64)    192         ['conv2d_492[0][0]']             \n",
      " Normalization)                                                                                   \n",
      "                                                                                                  \n",
      " activation_492 (Activation)    (None, 7, 7, 64)     0           ['batch_normalization_492[0][0]']\n"
     ]
    },
    {
     "name": "stdout",
     "output_type": "stream",
     "text": [
      "                                                                                                  \n",
      " conv2d_490 (Conv2D)            (None, 7, 7, 48)     13824       ['mixed1[0][0]']                 \n",
      "                                                                                                  \n",
      " conv2d_493 (Conv2D)            (None, 7, 7, 96)     55296       ['activation_492[0][0]']         \n",
      "                                                                                                  \n",
      " batch_normalization_490 (Batch  (None, 7, 7, 48)    144         ['conv2d_490[0][0]']             \n",
      " Normalization)                                                                                   \n",
      "                                                                                                  \n",
      " batch_normalization_493 (Batch  (None, 7, 7, 96)    288         ['conv2d_493[0][0]']             \n",
      " Normalization)                                                                                   \n",
      "                                                                                                  \n",
      " activation_490 (Activation)    (None, 7, 7, 48)     0           ['batch_normalization_490[0][0]']\n",
      "                                                                                                  \n",
      " activation_493 (Activation)    (None, 7, 7, 96)     0           ['batch_normalization_493[0][0]']\n",
      "                                                                                                  \n",
      " average_pooling2d_47 (AverageP  (None, 7, 7, 288)   0           ['mixed1[0][0]']                 \n",
      " ooling2D)                                                                                        \n",
      "                                                                                                  \n",
      " conv2d_489 (Conv2D)            (None, 7, 7, 64)     18432       ['mixed1[0][0]']                 \n",
      "                                                                                                  \n",
      " conv2d_491 (Conv2D)            (None, 7, 7, 64)     76800       ['activation_490[0][0]']         \n",
      "                                                                                                  \n",
      " conv2d_494 (Conv2D)            (None, 7, 7, 96)     82944       ['activation_493[0][0]']         \n",
      "                                                                                                  \n",
      " conv2d_495 (Conv2D)            (None, 7, 7, 64)     18432       ['average_pooling2d_47[0][0]']   \n",
      "                                                                                                  \n",
      " batch_normalization_489 (Batch  (None, 7, 7, 64)    192         ['conv2d_489[0][0]']             \n",
      " Normalization)                                                                                   \n",
      "                                                                                                  \n",
      " batch_normalization_491 (Batch  (None, 7, 7, 64)    192         ['conv2d_491[0][0]']             \n",
      " Normalization)                                                                                   \n",
      "                                                                                                  \n",
      " batch_normalization_494 (Batch  (None, 7, 7, 96)    288         ['conv2d_494[0][0]']             \n",
      " Normalization)                                                                                   \n",
      "                                                                                                  \n",
      " batch_normalization_495 (Batch  (None, 7, 7, 64)    192         ['conv2d_495[0][0]']             \n",
      " Normalization)                                                                                   \n",
      "                                                                                                  \n",
      " activation_489 (Activation)    (None, 7, 7, 64)     0           ['batch_normalization_489[0][0]']\n",
      "                                                                                                  \n",
      " activation_491 (Activation)    (None, 7, 7, 64)     0           ['batch_normalization_491[0][0]']\n",
      "                                                                                                  \n",
      " activation_494 (Activation)    (None, 7, 7, 96)     0           ['batch_normalization_494[0][0]']\n",
      "                                                                                                  \n",
      " activation_495 (Activation)    (None, 7, 7, 64)     0           ['batch_normalization_495[0][0]']\n",
      "                                                                                                  \n",
      " mixed2 (Concatenate)           (None, 7, 7, 288)    0           ['activation_489[0][0]',         \n",
      "                                                                  'activation_491[0][0]',         \n",
      "                                                                  'activation_494[0][0]',         \n",
      "                                                                  'activation_495[0][0]']         \n",
      "                                                                                                  \n",
      " conv2d_497 (Conv2D)            (None, 7, 7, 64)     18432       ['mixed2[0][0]']                 \n",
      "                                                                                                  \n",
      " batch_normalization_497 (Batch  (None, 7, 7, 64)    192         ['conv2d_497[0][0]']             \n",
      " Normalization)                                                                                   \n",
      "                                                                                                  \n",
      " activation_497 (Activation)    (None, 7, 7, 64)     0           ['batch_normalization_497[0][0]']\n",
      "                                                                                                  \n",
      " conv2d_498 (Conv2D)            (None, 7, 7, 96)     55296       ['activation_497[0][0]']         \n",
      "                                                                                                  \n",
      " batch_normalization_498 (Batch  (None, 7, 7, 96)    288         ['conv2d_498[0][0]']             \n",
      " Normalization)                                                                                   \n",
      "                                                                                                  \n",
      " activation_498 (Activation)    (None, 7, 7, 96)     0           ['batch_normalization_498[0][0]']\n",
      "                                                                                                  \n",
      " conv2d_496 (Conv2D)            (None, 3, 3, 384)    995328      ['mixed2[0][0]']                 \n",
      "                                                                                                  \n",
      " conv2d_499 (Conv2D)            (None, 3, 3, 96)     82944       ['activation_498[0][0]']         \n",
      "                                                                                                  \n",
      " batch_normalization_496 (Batch  (None, 3, 3, 384)   1152        ['conv2d_496[0][0]']             \n",
      " Normalization)                                                                                   \n",
      "                                                                                                  \n",
      " batch_normalization_499 (Batch  (None, 3, 3, 96)    288         ['conv2d_499[0][0]']             \n",
      " Normalization)                                                                                   \n",
      "                                                                                                  \n",
      " activation_496 (Activation)    (None, 3, 3, 384)    0           ['batch_normalization_496[0][0]']\n",
      "                                                                                                  \n",
      " activation_499 (Activation)    (None, 3, 3, 96)     0           ['batch_normalization_499[0][0]']\n",
      "                                                                                                  \n",
      " max_pooling2d_22 (MaxPooling2D  (None, 3, 3, 288)   0           ['mixed2[0][0]']                 \n",
      " )                                                                                                \n",
      "                                                                                                  \n",
      " mixed3 (Concatenate)           (None, 3, 3, 768)    0           ['activation_496[0][0]',         \n"
     ]
    },
    {
     "name": "stdout",
     "output_type": "stream",
     "text": [
      "                                                                  'activation_499[0][0]',         \n",
      "                                                                  'max_pooling2d_22[0][0]']       \n",
      "                                                                                                  \n",
      " conv2d_504 (Conv2D)            (None, 3, 3, 128)    98304       ['mixed3[0][0]']                 \n",
      "                                                                                                  \n",
      " batch_normalization_504 (Batch  (None, 3, 3, 128)   384         ['conv2d_504[0][0]']             \n",
      " Normalization)                                                                                   \n",
      "                                                                                                  \n",
      " activation_504 (Activation)    (None, 3, 3, 128)    0           ['batch_normalization_504[0][0]']\n",
      "                                                                                                  \n",
      " conv2d_505 (Conv2D)            (None, 3, 3, 128)    114688      ['activation_504[0][0]']         \n",
      "                                                                                                  \n",
      " batch_normalization_505 (Batch  (None, 3, 3, 128)   384         ['conv2d_505[0][0]']             \n",
      " Normalization)                                                                                   \n",
      "                                                                                                  \n",
      " activation_505 (Activation)    (None, 3, 3, 128)    0           ['batch_normalization_505[0][0]']\n",
      "                                                                                                  \n",
      " conv2d_501 (Conv2D)            (None, 3, 3, 128)    98304       ['mixed3[0][0]']                 \n",
      "                                                                                                  \n",
      " conv2d_506 (Conv2D)            (None, 3, 3, 128)    114688      ['activation_505[0][0]']         \n",
      "                                                                                                  \n",
      " batch_normalization_501 (Batch  (None, 3, 3, 128)   384         ['conv2d_501[0][0]']             \n",
      " Normalization)                                                                                   \n",
      "                                                                                                  \n",
      " batch_normalization_506 (Batch  (None, 3, 3, 128)   384         ['conv2d_506[0][0]']             \n",
      " Normalization)                                                                                   \n",
      "                                                                                                  \n",
      " activation_501 (Activation)    (None, 3, 3, 128)    0           ['batch_normalization_501[0][0]']\n",
      "                                                                                                  \n",
      " activation_506 (Activation)    (None, 3, 3, 128)    0           ['batch_normalization_506[0][0]']\n",
      "                                                                                                  \n",
      " conv2d_502 (Conv2D)            (None, 3, 3, 128)    114688      ['activation_501[0][0]']         \n",
      "                                                                                                  \n",
      " conv2d_507 (Conv2D)            (None, 3, 3, 128)    114688      ['activation_506[0][0]']         \n",
      "                                                                                                  \n",
      " batch_normalization_502 (Batch  (None, 3, 3, 128)   384         ['conv2d_502[0][0]']             \n",
      " Normalization)                                                                                   \n",
      "                                                                                                  \n",
      " batch_normalization_507 (Batch  (None, 3, 3, 128)   384         ['conv2d_507[0][0]']             \n",
      " Normalization)                                                                                   \n",
      "                                                                                                  \n",
      " activation_502 (Activation)    (None, 3, 3, 128)    0           ['batch_normalization_502[0][0]']\n",
      "                                                                                                  \n",
      " activation_507 (Activation)    (None, 3, 3, 128)    0           ['batch_normalization_507[0][0]']\n",
      "                                                                                                  \n",
      " average_pooling2d_48 (AverageP  (None, 3, 3, 768)   0           ['mixed3[0][0]']                 \n",
      " ooling2D)                                                                                        \n",
      "                                                                                                  \n",
      " conv2d_500 (Conv2D)            (None, 3, 3, 192)    147456      ['mixed3[0][0]']                 \n",
      "                                                                                                  \n",
      " conv2d_503 (Conv2D)            (None, 3, 3, 192)    172032      ['activation_502[0][0]']         \n",
      "                                                                                                  \n",
      " conv2d_508 (Conv2D)            (None, 3, 3, 192)    172032      ['activation_507[0][0]']         \n",
      "                                                                                                  \n",
      " conv2d_509 (Conv2D)            (None, 3, 3, 192)    147456      ['average_pooling2d_48[0][0]']   \n",
      "                                                                                                  \n",
      " batch_normalization_500 (Batch  (None, 3, 3, 192)   576         ['conv2d_500[0][0]']             \n",
      " Normalization)                                                                                   \n",
      "                                                                                                  \n",
      " batch_normalization_503 (Batch  (None, 3, 3, 192)   576         ['conv2d_503[0][0]']             \n",
      " Normalization)                                                                                   \n",
      "                                                                                                  \n",
      " batch_normalization_508 (Batch  (None, 3, 3, 192)   576         ['conv2d_508[0][0]']             \n",
      " Normalization)                                                                                   \n",
      "                                                                                                  \n",
      " batch_normalization_509 (Batch  (None, 3, 3, 192)   576         ['conv2d_509[0][0]']             \n",
      " Normalization)                                                                                   \n",
      "                                                                                                  \n",
      " activation_500 (Activation)    (None, 3, 3, 192)    0           ['batch_normalization_500[0][0]']\n",
      "                                                                                                  \n",
      " activation_503 (Activation)    (None, 3, 3, 192)    0           ['batch_normalization_503[0][0]']\n",
      "                                                                                                  \n",
      " activation_508 (Activation)    (None, 3, 3, 192)    0           ['batch_normalization_508[0][0]']\n",
      "                                                                                                  \n",
      " activation_509 (Activation)    (None, 3, 3, 192)    0           ['batch_normalization_509[0][0]']\n",
      "                                                                                                  \n",
      " mixed4 (Concatenate)           (None, 3, 3, 768)    0           ['activation_500[0][0]',         \n",
      "                                                                  'activation_503[0][0]',         \n",
      "                                                                  'activation_508[0][0]',         \n",
      "                                                                  'activation_509[0][0]']         \n",
      "                                                                                                  \n",
      " conv2d_514 (Conv2D)            (None, 3, 3, 160)    122880      ['mixed4[0][0]']                 \n",
      "                                                                                                  \n"
     ]
    },
    {
     "name": "stdout",
     "output_type": "stream",
     "text": [
      " batch_normalization_514 (Batch  (None, 3, 3, 160)   480         ['conv2d_514[0][0]']             \n",
      " Normalization)                                                                                   \n",
      "                                                                                                  \n",
      " activation_514 (Activation)    (None, 3, 3, 160)    0           ['batch_normalization_514[0][0]']\n",
      "                                                                                                  \n",
      " conv2d_515 (Conv2D)            (None, 3, 3, 160)    179200      ['activation_514[0][0]']         \n",
      "                                                                                                  \n",
      " batch_normalization_515 (Batch  (None, 3, 3, 160)   480         ['conv2d_515[0][0]']             \n",
      " Normalization)                                                                                   \n",
      "                                                                                                  \n",
      " activation_515 (Activation)    (None, 3, 3, 160)    0           ['batch_normalization_515[0][0]']\n",
      "                                                                                                  \n",
      " conv2d_511 (Conv2D)            (None, 3, 3, 160)    122880      ['mixed4[0][0]']                 \n",
      "                                                                                                  \n",
      " conv2d_516 (Conv2D)            (None, 3, 3, 160)    179200      ['activation_515[0][0]']         \n",
      "                                                                                                  \n",
      " batch_normalization_511 (Batch  (None, 3, 3, 160)   480         ['conv2d_511[0][0]']             \n",
      " Normalization)                                                                                   \n",
      "                                                                                                  \n",
      " batch_normalization_516 (Batch  (None, 3, 3, 160)   480         ['conv2d_516[0][0]']             \n",
      " Normalization)                                                                                   \n",
      "                                                                                                  \n",
      " activation_511 (Activation)    (None, 3, 3, 160)    0           ['batch_normalization_511[0][0]']\n",
      "                                                                                                  \n",
      " activation_516 (Activation)    (None, 3, 3, 160)    0           ['batch_normalization_516[0][0]']\n",
      "                                                                                                  \n",
      " conv2d_512 (Conv2D)            (None, 3, 3, 160)    179200      ['activation_511[0][0]']         \n",
      "                                                                                                  \n",
      " conv2d_517 (Conv2D)            (None, 3, 3, 160)    179200      ['activation_516[0][0]']         \n",
      "                                                                                                  \n",
      " batch_normalization_512 (Batch  (None, 3, 3, 160)   480         ['conv2d_512[0][0]']             \n",
      " Normalization)                                                                                   \n",
      "                                                                                                  \n",
      " batch_normalization_517 (Batch  (None, 3, 3, 160)   480         ['conv2d_517[0][0]']             \n",
      " Normalization)                                                                                   \n",
      "                                                                                                  \n",
      " activation_512 (Activation)    (None, 3, 3, 160)    0           ['batch_normalization_512[0][0]']\n",
      "                                                                                                  \n",
      " activation_517 (Activation)    (None, 3, 3, 160)    0           ['batch_normalization_517[0][0]']\n",
      "                                                                                                  \n",
      " average_pooling2d_49 (AverageP  (None, 3, 3, 768)   0           ['mixed4[0][0]']                 \n",
      " ooling2D)                                                                                        \n",
      "                                                                                                  \n",
      " conv2d_510 (Conv2D)            (None, 3, 3, 192)    147456      ['mixed4[0][0]']                 \n",
      "                                                                                                  \n",
      " conv2d_513 (Conv2D)            (None, 3, 3, 192)    215040      ['activation_512[0][0]']         \n",
      "                                                                                                  \n",
      " conv2d_518 (Conv2D)            (None, 3, 3, 192)    215040      ['activation_517[0][0]']         \n",
      "                                                                                                  \n",
      " conv2d_519 (Conv2D)            (None, 3, 3, 192)    147456      ['average_pooling2d_49[0][0]']   \n",
      "                                                                                                  \n",
      " batch_normalization_510 (Batch  (None, 3, 3, 192)   576         ['conv2d_510[0][0]']             \n",
      " Normalization)                                                                                   \n",
      "                                                                                                  \n",
      " batch_normalization_513 (Batch  (None, 3, 3, 192)   576         ['conv2d_513[0][0]']             \n",
      " Normalization)                                                                                   \n",
      "                                                                                                  \n",
      " batch_normalization_518 (Batch  (None, 3, 3, 192)   576         ['conv2d_518[0][0]']             \n",
      " Normalization)                                                                                   \n",
      "                                                                                                  \n",
      " batch_normalization_519 (Batch  (None, 3, 3, 192)   576         ['conv2d_519[0][0]']             \n",
      " Normalization)                                                                                   \n",
      "                                                                                                  \n",
      " activation_510 (Activation)    (None, 3, 3, 192)    0           ['batch_normalization_510[0][0]']\n",
      "                                                                                                  \n",
      " activation_513 (Activation)    (None, 3, 3, 192)    0           ['batch_normalization_513[0][0]']\n",
      "                                                                                                  \n",
      " activation_518 (Activation)    (None, 3, 3, 192)    0           ['batch_normalization_518[0][0]']\n",
      "                                                                                                  \n",
      " activation_519 (Activation)    (None, 3, 3, 192)    0           ['batch_normalization_519[0][0]']\n",
      "                                                                                                  \n",
      " mixed5 (Concatenate)           (None, 3, 3, 768)    0           ['activation_510[0][0]',         \n",
      "                                                                  'activation_513[0][0]',         \n",
      "                                                                  'activation_518[0][0]',         \n",
      "                                                                  'activation_519[0][0]']         \n",
      "                                                                                                  \n",
      " conv2d_524 (Conv2D)            (None, 3, 3, 160)    122880      ['mixed5[0][0]']                 \n",
      "                                                                                                  \n",
      " batch_normalization_524 (Batch  (None, 3, 3, 160)   480         ['conv2d_524[0][0]']             \n",
      " Normalization)                                                                                   \n",
      "                                                                                                  \n",
      " activation_524 (Activation)    (None, 3, 3, 160)    0           ['batch_normalization_524[0][0]']\n",
      "                                                                                                  \n"
     ]
    },
    {
     "name": "stdout",
     "output_type": "stream",
     "text": [
      " conv2d_525 (Conv2D)            (None, 3, 3, 160)    179200      ['activation_524[0][0]']         \n",
      "                                                                                                  \n",
      " batch_normalization_525 (Batch  (None, 3, 3, 160)   480         ['conv2d_525[0][0]']             \n",
      " Normalization)                                                                                   \n",
      "                                                                                                  \n",
      " activation_525 (Activation)    (None, 3, 3, 160)    0           ['batch_normalization_525[0][0]']\n",
      "                                                                                                  \n",
      " conv2d_521 (Conv2D)            (None, 3, 3, 160)    122880      ['mixed5[0][0]']                 \n",
      "                                                                                                  \n",
      " conv2d_526 (Conv2D)            (None, 3, 3, 160)    179200      ['activation_525[0][0]']         \n",
      "                                                                                                  \n",
      " batch_normalization_521 (Batch  (None, 3, 3, 160)   480         ['conv2d_521[0][0]']             \n",
      " Normalization)                                                                                   \n",
      "                                                                                                  \n",
      " batch_normalization_526 (Batch  (None, 3, 3, 160)   480         ['conv2d_526[0][0]']             \n",
      " Normalization)                                                                                   \n",
      "                                                                                                  \n",
      " activation_521 (Activation)    (None, 3, 3, 160)    0           ['batch_normalization_521[0][0]']\n",
      "                                                                                                  \n",
      " activation_526 (Activation)    (None, 3, 3, 160)    0           ['batch_normalization_526[0][0]']\n",
      "                                                                                                  \n",
      " conv2d_522 (Conv2D)            (None, 3, 3, 160)    179200      ['activation_521[0][0]']         \n",
      "                                                                                                  \n",
      " conv2d_527 (Conv2D)            (None, 3, 3, 160)    179200      ['activation_526[0][0]']         \n",
      "                                                                                                  \n",
      " batch_normalization_522 (Batch  (None, 3, 3, 160)   480         ['conv2d_522[0][0]']             \n",
      " Normalization)                                                                                   \n",
      "                                                                                                  \n",
      " batch_normalization_527 (Batch  (None, 3, 3, 160)   480         ['conv2d_527[0][0]']             \n",
      " Normalization)                                                                                   \n",
      "                                                                                                  \n",
      " activation_522 (Activation)    (None, 3, 3, 160)    0           ['batch_normalization_522[0][0]']\n",
      "                                                                                                  \n",
      " activation_527 (Activation)    (None, 3, 3, 160)    0           ['batch_normalization_527[0][0]']\n",
      "                                                                                                  \n",
      " average_pooling2d_50 (AverageP  (None, 3, 3, 768)   0           ['mixed5[0][0]']                 \n",
      " ooling2D)                                                                                        \n",
      "                                                                                                  \n",
      " conv2d_520 (Conv2D)            (None, 3, 3, 192)    147456      ['mixed5[0][0]']                 \n",
      "                                                                                                  \n",
      " conv2d_523 (Conv2D)            (None, 3, 3, 192)    215040      ['activation_522[0][0]']         \n",
      "                                                                                                  \n",
      " conv2d_528 (Conv2D)            (None, 3, 3, 192)    215040      ['activation_527[0][0]']         \n",
      "                                                                                                  \n",
      " conv2d_529 (Conv2D)            (None, 3, 3, 192)    147456      ['average_pooling2d_50[0][0]']   \n",
      "                                                                                                  \n",
      " batch_normalization_520 (Batch  (None, 3, 3, 192)   576         ['conv2d_520[0][0]']             \n",
      " Normalization)                                                                                   \n",
      "                                                                                                  \n",
      " batch_normalization_523 (Batch  (None, 3, 3, 192)   576         ['conv2d_523[0][0]']             \n",
      " Normalization)                                                                                   \n",
      "                                                                                                  \n",
      " batch_normalization_528 (Batch  (None, 3, 3, 192)   576         ['conv2d_528[0][0]']             \n",
      " Normalization)                                                                                   \n",
      "                                                                                                  \n",
      " batch_normalization_529 (Batch  (None, 3, 3, 192)   576         ['conv2d_529[0][0]']             \n",
      " Normalization)                                                                                   \n",
      "                                                                                                  \n",
      " activation_520 (Activation)    (None, 3, 3, 192)    0           ['batch_normalization_520[0][0]']\n",
      "                                                                                                  \n",
      " activation_523 (Activation)    (None, 3, 3, 192)    0           ['batch_normalization_523[0][0]']\n",
      "                                                                                                  \n",
      " activation_528 (Activation)    (None, 3, 3, 192)    0           ['batch_normalization_528[0][0]']\n",
      "                                                                                                  \n",
      " activation_529 (Activation)    (None, 3, 3, 192)    0           ['batch_normalization_529[0][0]']\n",
      "                                                                                                  \n",
      " mixed6 (Concatenate)           (None, 3, 3, 768)    0           ['activation_520[0][0]',         \n",
      "                                                                  'activation_523[0][0]',         \n",
      "                                                                  'activation_528[0][0]',         \n",
      "                                                                  'activation_529[0][0]']         \n",
      "                                                                                                  \n",
      " conv2d_534 (Conv2D)            (None, 3, 3, 192)    147456      ['mixed6[0][0]']                 \n",
      "                                                                                                  \n",
      " batch_normalization_534 (Batch  (None, 3, 3, 192)   576         ['conv2d_534[0][0]']             \n",
      " Normalization)                                                                                   \n",
      "                                                                                                  \n",
      " activation_534 (Activation)    (None, 3, 3, 192)    0           ['batch_normalization_534[0][0]']\n",
      "                                                                                                  \n",
      " conv2d_535 (Conv2D)            (None, 3, 3, 192)    258048      ['activation_534[0][0]']         \n",
      "                                                                                                  \n",
      " batch_normalization_535 (Batch  (None, 3, 3, 192)   576         ['conv2d_535[0][0]']             \n",
      " Normalization)                                                                                   \n",
      "                                                                                                  \n"
     ]
    },
    {
     "name": "stdout",
     "output_type": "stream",
     "text": [
      " activation_535 (Activation)    (None, 3, 3, 192)    0           ['batch_normalization_535[0][0]']\n",
      "                                                                                                  \n",
      " conv2d_531 (Conv2D)            (None, 3, 3, 192)    147456      ['mixed6[0][0]']                 \n",
      "                                                                                                  \n",
      " conv2d_536 (Conv2D)            (None, 3, 3, 192)    258048      ['activation_535[0][0]']         \n",
      "                                                                                                  \n",
      " batch_normalization_531 (Batch  (None, 3, 3, 192)   576         ['conv2d_531[0][0]']             \n",
      " Normalization)                                                                                   \n",
      "                                                                                                  \n",
      " batch_normalization_536 (Batch  (None, 3, 3, 192)   576         ['conv2d_536[0][0]']             \n",
      " Normalization)                                                                                   \n",
      "                                                                                                  \n",
      " activation_531 (Activation)    (None, 3, 3, 192)    0           ['batch_normalization_531[0][0]']\n",
      "                                                                                                  \n",
      " activation_536 (Activation)    (None, 3, 3, 192)    0           ['batch_normalization_536[0][0]']\n",
      "                                                                                                  \n",
      " conv2d_532 (Conv2D)            (None, 3, 3, 192)    258048      ['activation_531[0][0]']         \n",
      "                                                                                                  \n",
      " conv2d_537 (Conv2D)            (None, 3, 3, 192)    258048      ['activation_536[0][0]']         \n",
      "                                                                                                  \n",
      " batch_normalization_532 (Batch  (None, 3, 3, 192)   576         ['conv2d_532[0][0]']             \n",
      " Normalization)                                                                                   \n",
      "                                                                                                  \n",
      " batch_normalization_537 (Batch  (None, 3, 3, 192)   576         ['conv2d_537[0][0]']             \n",
      " Normalization)                                                                                   \n",
      "                                                                                                  \n",
      " activation_532 (Activation)    (None, 3, 3, 192)    0           ['batch_normalization_532[0][0]']\n",
      "                                                                                                  \n",
      " activation_537 (Activation)    (None, 3, 3, 192)    0           ['batch_normalization_537[0][0]']\n",
      "                                                                                                  \n",
      " average_pooling2d_51 (AverageP  (None, 3, 3, 768)   0           ['mixed6[0][0]']                 \n",
      " ooling2D)                                                                                        \n",
      "                                                                                                  \n",
      " conv2d_530 (Conv2D)            (None, 3, 3, 192)    147456      ['mixed6[0][0]']                 \n",
      "                                                                                                  \n",
      " conv2d_533 (Conv2D)            (None, 3, 3, 192)    258048      ['activation_532[0][0]']         \n",
      "                                                                                                  \n",
      " conv2d_538 (Conv2D)            (None, 3, 3, 192)    258048      ['activation_537[0][0]']         \n",
      "                                                                                                  \n",
      " conv2d_539 (Conv2D)            (None, 3, 3, 192)    147456      ['average_pooling2d_51[0][0]']   \n",
      "                                                                                                  \n",
      " batch_normalization_530 (Batch  (None, 3, 3, 192)   576         ['conv2d_530[0][0]']             \n",
      " Normalization)                                                                                   \n",
      "                                                                                                  \n",
      " batch_normalization_533 (Batch  (None, 3, 3, 192)   576         ['conv2d_533[0][0]']             \n",
      " Normalization)                                                                                   \n",
      "                                                                                                  \n",
      " batch_normalization_538 (Batch  (None, 3, 3, 192)   576         ['conv2d_538[0][0]']             \n",
      " Normalization)                                                                                   \n",
      "                                                                                                  \n",
      " batch_normalization_539 (Batch  (None, 3, 3, 192)   576         ['conv2d_539[0][0]']             \n",
      " Normalization)                                                                                   \n",
      "                                                                                                  \n",
      " activation_530 (Activation)    (None, 3, 3, 192)    0           ['batch_normalization_530[0][0]']\n",
      "                                                                                                  \n",
      " activation_533 (Activation)    (None, 3, 3, 192)    0           ['batch_normalization_533[0][0]']\n",
      "                                                                                                  \n",
      " activation_538 (Activation)    (None, 3, 3, 192)    0           ['batch_normalization_538[0][0]']\n",
      "                                                                                                  \n",
      " activation_539 (Activation)    (None, 3, 3, 192)    0           ['batch_normalization_539[0][0]']\n",
      "                                                                                                  \n",
      " mixed7 (Concatenate)           (None, 3, 3, 768)    0           ['activation_530[0][0]',         \n",
      "                                                                  'activation_533[0][0]',         \n",
      "                                                                  'activation_538[0][0]',         \n",
      "                                                                  'activation_539[0][0]']         \n",
      "                                                                                                  \n",
      " conv2d_542 (Conv2D)            (None, 3, 3, 192)    147456      ['mixed7[0][0]']                 \n",
      "                                                                                                  \n",
      " batch_normalization_542 (Batch  (None, 3, 3, 192)   576         ['conv2d_542[0][0]']             \n",
      " Normalization)                                                                                   \n",
      "                                                                                                  \n",
      " activation_542 (Activation)    (None, 3, 3, 192)    0           ['batch_normalization_542[0][0]']\n",
      "                                                                                                  \n",
      " conv2d_543 (Conv2D)            (None, 3, 3, 192)    258048      ['activation_542[0][0]']         \n",
      "                                                                                                  \n",
      " batch_normalization_543 (Batch  (None, 3, 3, 192)   576         ['conv2d_543[0][0]']             \n",
      " Normalization)                                                                                   \n",
      "                                                                                                  \n",
      " activation_543 (Activation)    (None, 3, 3, 192)    0           ['batch_normalization_543[0][0]']\n",
      "                                                                                                  \n",
      " conv2d_540 (Conv2D)            (None, 3, 3, 192)    147456      ['mixed7[0][0]']                 \n",
      "                                                                                                  \n",
      " conv2d_544 (Conv2D)            (None, 3, 3, 192)    258048      ['activation_543[0][0]']         \n"
     ]
    },
    {
     "name": "stdout",
     "output_type": "stream",
     "text": [
      "                                                                                                  \n",
      " batch_normalization_540 (Batch  (None, 3, 3, 192)   576         ['conv2d_540[0][0]']             \n",
      " Normalization)                                                                                   \n",
      "                                                                                                  \n",
      " batch_normalization_544 (Batch  (None, 3, 3, 192)   576         ['conv2d_544[0][0]']             \n",
      " Normalization)                                                                                   \n",
      "                                                                                                  \n",
      " activation_540 (Activation)    (None, 3, 3, 192)    0           ['batch_normalization_540[0][0]']\n",
      "                                                                                                  \n",
      " activation_544 (Activation)    (None, 3, 3, 192)    0           ['batch_normalization_544[0][0]']\n",
      "                                                                                                  \n",
      " conv2d_541 (Conv2D)            (None, 1, 1, 320)    552960      ['activation_540[0][0]']         \n",
      "                                                                                                  \n",
      " conv2d_545 (Conv2D)            (None, 1, 1, 192)    331776      ['activation_544[0][0]']         \n",
      "                                                                                                  \n",
      " batch_normalization_541 (Batch  (None, 1, 1, 320)   960         ['conv2d_541[0][0]']             \n",
      " Normalization)                                                                                   \n",
      "                                                                                                  \n",
      " batch_normalization_545 (Batch  (None, 1, 1, 192)   576         ['conv2d_545[0][0]']             \n",
      " Normalization)                                                                                   \n",
      "                                                                                                  \n",
      " activation_541 (Activation)    (None, 1, 1, 320)    0           ['batch_normalization_541[0][0]']\n",
      "                                                                                                  \n",
      " activation_545 (Activation)    (None, 1, 1, 192)    0           ['batch_normalization_545[0][0]']\n",
      "                                                                                                  \n",
      " max_pooling2d_23 (MaxPooling2D  (None, 1, 1, 768)   0           ['mixed7[0][0]']                 \n",
      " )                                                                                                \n",
      "                                                                                                  \n",
      " mixed8 (Concatenate)           (None, 1, 1, 1280)   0           ['activation_541[0][0]',         \n",
      "                                                                  'activation_545[0][0]',         \n",
      "                                                                  'max_pooling2d_23[0][0]']       \n",
      "                                                                                                  \n",
      " conv2d_550 (Conv2D)            (None, 1, 1, 448)    573440      ['mixed8[0][0]']                 \n",
      "                                                                                                  \n",
      " batch_normalization_550 (Batch  (None, 1, 1, 448)   1344        ['conv2d_550[0][0]']             \n",
      " Normalization)                                                                                   \n",
      "                                                                                                  \n",
      " activation_550 (Activation)    (None, 1, 1, 448)    0           ['batch_normalization_550[0][0]']\n",
      "                                                                                                  \n",
      " conv2d_547 (Conv2D)            (None, 1, 1, 384)    491520      ['mixed8[0][0]']                 \n",
      "                                                                                                  \n",
      " conv2d_551 (Conv2D)            (None, 1, 1, 384)    1548288     ['activation_550[0][0]']         \n",
      "                                                                                                  \n",
      " batch_normalization_547 (Batch  (None, 1, 1, 384)   1152        ['conv2d_547[0][0]']             \n",
      " Normalization)                                                                                   \n",
      "                                                                                                  \n",
      " batch_normalization_551 (Batch  (None, 1, 1, 384)   1152        ['conv2d_551[0][0]']             \n",
      " Normalization)                                                                                   \n",
      "                                                                                                  \n",
      " activation_547 (Activation)    (None, 1, 1, 384)    0           ['batch_normalization_547[0][0]']\n",
      "                                                                                                  \n",
      " activation_551 (Activation)    (None, 1, 1, 384)    0           ['batch_normalization_551[0][0]']\n",
      "                                                                                                  \n",
      " conv2d_548 (Conv2D)            (None, 1, 1, 384)    442368      ['activation_547[0][0]']         \n",
      "                                                                                                  \n",
      " conv2d_549 (Conv2D)            (None, 1, 1, 384)    442368      ['activation_547[0][0]']         \n",
      "                                                                                                  \n",
      " conv2d_552 (Conv2D)            (None, 1, 1, 384)    442368      ['activation_551[0][0]']         \n",
      "                                                                                                  \n",
      " conv2d_553 (Conv2D)            (None, 1, 1, 384)    442368      ['activation_551[0][0]']         \n",
      "                                                                                                  \n",
      " average_pooling2d_52 (AverageP  (None, 1, 1, 1280)  0           ['mixed8[0][0]']                 \n",
      " ooling2D)                                                                                        \n",
      "                                                                                                  \n",
      " conv2d_546 (Conv2D)            (None, 1, 1, 320)    409600      ['mixed8[0][0]']                 \n",
      "                                                                                                  \n",
      " batch_normalization_548 (Batch  (None, 1, 1, 384)   1152        ['conv2d_548[0][0]']             \n",
      " Normalization)                                                                                   \n",
      "                                                                                                  \n",
      " batch_normalization_549 (Batch  (None, 1, 1, 384)   1152        ['conv2d_549[0][0]']             \n",
      " Normalization)                                                                                   \n",
      "                                                                                                  \n",
      " batch_normalization_552 (Batch  (None, 1, 1, 384)   1152        ['conv2d_552[0][0]']             \n",
      " Normalization)                                                                                   \n",
      "                                                                                                  \n",
      " batch_normalization_553 (Batch  (None, 1, 1, 384)   1152        ['conv2d_553[0][0]']             \n",
      " Normalization)                                                                                   \n",
      "                                                                                                  \n",
      " conv2d_554 (Conv2D)            (None, 1, 1, 192)    245760      ['average_pooling2d_52[0][0]']   \n",
      "                                                                                                  \n",
      " batch_normalization_546 (Batch  (None, 1, 1, 320)   960         ['conv2d_546[0][0]']             \n",
      " Normalization)                                                                                   \n",
      "                                                                                                  \n"
     ]
    },
    {
     "name": "stdout",
     "output_type": "stream",
     "text": [
      " activation_548 (Activation)    (None, 1, 1, 384)    0           ['batch_normalization_548[0][0]']\n",
      "                                                                                                  \n",
      " activation_549 (Activation)    (None, 1, 1, 384)    0           ['batch_normalization_549[0][0]']\n",
      "                                                                                                  \n",
      " activation_552 (Activation)    (None, 1, 1, 384)    0           ['batch_normalization_552[0][0]']\n",
      "                                                                                                  \n",
      " activation_553 (Activation)    (None, 1, 1, 384)    0           ['batch_normalization_553[0][0]']\n",
      "                                                                                                  \n",
      " batch_normalization_554 (Batch  (None, 1, 1, 192)   576         ['conv2d_554[0][0]']             \n",
      " Normalization)                                                                                   \n",
      "                                                                                                  \n",
      " activation_546 (Activation)    (None, 1, 1, 320)    0           ['batch_normalization_546[0][0]']\n",
      "                                                                                                  \n",
      " mixed9_0 (Concatenate)         (None, 1, 1, 768)    0           ['activation_548[0][0]',         \n",
      "                                                                  'activation_549[0][0]']         \n",
      "                                                                                                  \n",
      " concatenate_10 (Concatenate)   (None, 1, 1, 768)    0           ['activation_552[0][0]',         \n",
      "                                                                  'activation_553[0][0]']         \n",
      "                                                                                                  \n",
      " activation_554 (Activation)    (None, 1, 1, 192)    0           ['batch_normalization_554[0][0]']\n",
      "                                                                                                  \n",
      " mixed9 (Concatenate)           (None, 1, 1, 2048)   0           ['activation_546[0][0]',         \n",
      "                                                                  'mixed9_0[0][0]',               \n",
      "                                                                  'concatenate_10[0][0]',         \n",
      "                                                                  'activation_554[0][0]']         \n",
      "                                                                                                  \n",
      " conv2d_559 (Conv2D)            (None, 1, 1, 448)    917504      ['mixed9[0][0]']                 \n",
      "                                                                                                  \n",
      " batch_normalization_559 (Batch  (None, 1, 1, 448)   1344        ['conv2d_559[0][0]']             \n",
      " Normalization)                                                                                   \n",
      "                                                                                                  \n",
      " activation_559 (Activation)    (None, 1, 1, 448)    0           ['batch_normalization_559[0][0]']\n",
      "                                                                                                  \n",
      " conv2d_556 (Conv2D)            (None, 1, 1, 384)    786432      ['mixed9[0][0]']                 \n",
      "                                                                                                  \n",
      " conv2d_560 (Conv2D)            (None, 1, 1, 384)    1548288     ['activation_559[0][0]']         \n",
      "                                                                                                  \n",
      " batch_normalization_556 (Batch  (None, 1, 1, 384)   1152        ['conv2d_556[0][0]']             \n",
      " Normalization)                                                                                   \n",
      "                                                                                                  \n",
      " batch_normalization_560 (Batch  (None, 1, 1, 384)   1152        ['conv2d_560[0][0]']             \n",
      " Normalization)                                                                                   \n",
      "                                                                                                  \n",
      " activation_556 (Activation)    (None, 1, 1, 384)    0           ['batch_normalization_556[0][0]']\n",
      "                                                                                                  \n",
      " activation_560 (Activation)    (None, 1, 1, 384)    0           ['batch_normalization_560[0][0]']\n",
      "                                                                                                  \n",
      " conv2d_557 (Conv2D)            (None, 1, 1, 384)    442368      ['activation_556[0][0]']         \n",
      "                                                                                                  \n",
      " conv2d_558 (Conv2D)            (None, 1, 1, 384)    442368      ['activation_556[0][0]']         \n",
      "                                                                                                  \n",
      " conv2d_561 (Conv2D)            (None, 1, 1, 384)    442368      ['activation_560[0][0]']         \n",
      "                                                                                                  \n",
      " conv2d_562 (Conv2D)            (None, 1, 1, 384)    442368      ['activation_560[0][0]']         \n",
      "                                                                                                  \n",
      " average_pooling2d_53 (AverageP  (None, 1, 1, 2048)  0           ['mixed9[0][0]']                 \n",
      " ooling2D)                                                                                        \n",
      "                                                                                                  \n",
      " conv2d_555 (Conv2D)            (None, 1, 1, 320)    655360      ['mixed9[0][0]']                 \n",
      "                                                                                                  \n",
      " batch_normalization_557 (Batch  (None, 1, 1, 384)   1152        ['conv2d_557[0][0]']             \n",
      " Normalization)                                                                                   \n",
      "                                                                                                  \n",
      " batch_normalization_558 (Batch  (None, 1, 1, 384)   1152        ['conv2d_558[0][0]']             \n",
      " Normalization)                                                                                   \n",
      "                                                                                                  \n",
      " batch_normalization_561 (Batch  (None, 1, 1, 384)   1152        ['conv2d_561[0][0]']             \n",
      " Normalization)                                                                                   \n",
      "                                                                                                  \n",
      " batch_normalization_562 (Batch  (None, 1, 1, 384)   1152        ['conv2d_562[0][0]']             \n",
      " Normalization)                                                                                   \n",
      "                                                                                                  \n",
      " conv2d_563 (Conv2D)            (None, 1, 1, 192)    393216      ['average_pooling2d_53[0][0]']   \n",
      "                                                                                                  \n",
      " batch_normalization_555 (Batch  (None, 1, 1, 320)   960         ['conv2d_555[0][0]']             \n",
      " Normalization)                                                                                   \n",
      "                                                                                                  \n",
      " activation_557 (Activation)    (None, 1, 1, 384)    0           ['batch_normalization_557[0][0]']\n",
      "                                                                                                  \n",
      " activation_558 (Activation)    (None, 1, 1, 384)    0           ['batch_normalization_558[0][0]']\n",
      "                                                                                                  \n",
      " activation_561 (Activation)    (None, 1, 1, 384)    0           ['batch_normalization_561[0][0]']\n",
      "                                                                                                  \n"
     ]
    },
    {
     "name": "stdout",
     "output_type": "stream",
     "text": [
      " activation_562 (Activation)    (None, 1, 1, 384)    0           ['batch_normalization_562[0][0]']\n",
      "                                                                                                  \n",
      " batch_normalization_563 (Batch  (None, 1, 1, 192)   576         ['conv2d_563[0][0]']             \n",
      " Normalization)                                                                                   \n",
      "                                                                                                  \n",
      " activation_555 (Activation)    (None, 1, 1, 320)    0           ['batch_normalization_555[0][0]']\n",
      "                                                                                                  \n",
      " mixed9_1 (Concatenate)         (None, 1, 1, 768)    0           ['activation_557[0][0]',         \n",
      "                                                                  'activation_558[0][0]']         \n",
      "                                                                                                  \n",
      " concatenate_11 (Concatenate)   (None, 1, 1, 768)    0           ['activation_561[0][0]',         \n",
      "                                                                  'activation_562[0][0]']         \n",
      "                                                                                                  \n",
      " activation_563 (Activation)    (None, 1, 1, 192)    0           ['batch_normalization_563[0][0]']\n",
      "                                                                                                  \n",
      " mixed10 (Concatenate)          (None, 1, 1, 2048)   0           ['activation_555[0][0]',         \n",
      "                                                                  'mixed9_1[0][0]',               \n",
      "                                                                  'concatenate_11[0][0]',         \n",
      "                                                                  'activation_563[0][0]']         \n",
      "                                                                                                  \n",
      " flatten_2 (Flatten)            (None, 2048)         0           ['mixed10[0][0]']                \n",
      "                                                                                                  \n",
      " dense_4 (Dense)                (None, 64)           131136      ['flatten_2[0][0]']              \n",
      "                                                                                                  \n",
      " dropout_2 (Dropout)            (None, 64)           0           ['dense_4[0][0]']                \n",
      "                                                                                                  \n",
      " dense_5 (Dense)                (None, 2)            130         ['dropout_2[0][0]']              \n",
      "                                                                                                  \n",
      "==================================================================================================\n",
      "Total params: 21,934,050\n",
      "Trainable params: 131,266\n",
      "Non-trainable params: 21,802,784\n",
      "__________________________________________________________________________________________________\n"
     ]
    }
   ],
   "source": [
    "model.summary()"
   ]
  },
  {
   "cell_type": "code",
   "execution_count": 34,
   "id": "53b38b9b",
   "metadata": {},
   "outputs": [],
   "source": [
    "from tensorflow.keras.callbacks import ModelCheckpoint, EarlyStopping, ReduceLROnPlateau"
   ]
  },
  {
   "cell_type": "code",
   "execution_count": 40,
   "id": "71962bf8",
   "metadata": {},
   "outputs": [],
   "source": [
    "checkpoint  = ModelCheckpoint(r'C:\\Users\\Tanishq\\Drowsiness Detection\\model.h5',\n",
    "                             monitor = 'val_loss', save_best_only=True, verbose=3) #verbose is font.\n",
    "earlystop= EarlyStopping(monitor = 'vsl_loss', patience =7, verbose = 3, restore_best_weights= True) # means when we are training for very long time and if the accuracy is not increasing and valduiation loss is not decreasing then it'll stop the training\n",
    "learning_rate= ReduceLROnPlateau(monitor = 'val_loss', patience=3, verbose=3) #if the val loss is not decreasing after 2or 3 epoch then reduce the learning rate. what is learning rate, with how much speed or rate it's learning.\n",
    "callbacks = [checkpoint,earlystop,learning_rate]"
   ]
  },
  {
   "cell_type": "code",
   "execution_count": 41,
   "id": "b450e5dd",
   "metadata": {},
   "outputs": [
    {
     "name": "stdout",
     "output_type": "stream",
     "text": [
      "Epoch 1/50\n"
     ]
    },
    {
     "name": "stderr",
     "output_type": "stream",
     "text": [
      "C:\\Users\\Tanishq\\AppData\\Local\\Temp\\ipykernel_5460\\3518192601.py:2: UserWarning: `Model.fit_generator` is deprecated and will be removed in a future version. Please use `Model.fit`, which supports generators.\n",
      "  model.fit_generator(train_data,steps_per_epoch=train_data.samples//batchsize,\n"
     ]
    },
    {
     "name": "stdout",
     "output_type": "stream",
     "text": [
      "3395/3395 [==============================] - ETA: 0s - loss: 0.2233 - accuracy: 0.9115\n",
      "Epoch 1: val_loss improved from inf to 0.29843, saving model to C:\\Users\\Tanishq\\Drowsiness Detection\\model.h5\n",
      "WARNING:tensorflow:Early stopping conditioned on metric `vsl_loss` which is not available. Available metrics are: loss,accuracy,val_loss,val_accuracy\n"
     ]
    },
    {
     "name": "stderr",
     "output_type": "stream",
     "text": [
      "WARNING:tensorflow:Early stopping conditioned on metric `vsl_loss` which is not available. Available metrics are: loss,accuracy,val_loss,val_accuracy\n"
     ]
    },
    {
     "name": "stdout",
     "output_type": "stream",
     "text": [
      "3395/3395 [==============================] - 259s 75ms/step - loss: 0.2233 - accuracy: 0.9115 - val_loss: 0.2984 - val_accuracy: 0.8743 - lr: 0.0010\n",
      "Epoch 2/50\n",
      "3395/3395 [==============================] - ETA: 0s - loss: 0.2232 - accuracy: 0.9092\n",
      "Epoch 2: val_loss improved from 0.29843 to 0.29298, saving model to C:\\Users\\Tanishq\\Drowsiness Detection\\model.h5\n",
      "WARNING:tensorflow:Early stopping conditioned on metric `vsl_loss` which is not available. Available metrics are: loss,accuracy,val_loss,val_accuracy\n"
     ]
    },
    {
     "name": "stderr",
     "output_type": "stream",
     "text": [
      "WARNING:tensorflow:Early stopping conditioned on metric `vsl_loss` which is not available. Available metrics are: loss,accuracy,val_loss,val_accuracy\n"
     ]
    },
    {
     "name": "stdout",
     "output_type": "stream",
     "text": [
      "3395/3395 [==============================] - 214s 63ms/step - loss: 0.2232 - accuracy: 0.9092 - val_loss: 0.2930 - val_accuracy: 0.8772 - lr: 0.0010\n",
      "Epoch 3/50\n",
      "3395/3395 [==============================] - ETA: 0s - loss: 0.2175 - accuracy: 0.9125\n",
      "Epoch 3: val_loss improved from 0.29298 to 0.26584, saving model to C:\\Users\\Tanishq\\Drowsiness Detection\\model.h5\n",
      "WARNING:tensorflow:Early stopping conditioned on metric `vsl_loss` which is not available. Available metrics are: loss,accuracy,val_loss,val_accuracy\n"
     ]
    },
    {
     "name": "stderr",
     "output_type": "stream",
     "text": [
      "WARNING:tensorflow:Early stopping conditioned on metric `vsl_loss` which is not available. Available metrics are: loss,accuracy,val_loss,val_accuracy\n"
     ]
    },
    {
     "name": "stdout",
     "output_type": "stream",
     "text": [
      "3395/3395 [==============================] - 231s 68ms/step - loss: 0.2175 - accuracy: 0.9125 - val_loss: 0.2658 - val_accuracy: 0.8844 - lr: 0.0010\n",
      "Epoch 4/50\n",
      "3394/3395 [============================>.] - ETA: 0s - loss: 0.2238 - accuracy: 0.9105\n",
      "Epoch 4: val_loss did not improve from 0.26584\n",
      "WARNING:tensorflow:Early stopping conditioned on metric `vsl_loss` which is not available. Available metrics are: loss,accuracy,val_loss,val_accuracy\n"
     ]
    },
    {
     "name": "stderr",
     "output_type": "stream",
     "text": [
      "WARNING:tensorflow:Early stopping conditioned on metric `vsl_loss` which is not available. Available metrics are: loss,accuracy,val_loss,val_accuracy\n"
     ]
    },
    {
     "name": "stdout",
     "output_type": "stream",
     "text": [
      "3395/3395 [==============================] - 166s 49ms/step - loss: 0.2238 - accuracy: 0.9105 - val_loss: 0.2943 - val_accuracy: 0.8785 - lr: 0.0010\n",
      "Epoch 5/50\n",
      "3395/3395 [==============================] - ETA: 0s - loss: 0.2145 - accuracy: 0.9131\n",
      "Epoch 5: val_loss did not improve from 0.26584\n",
      "WARNING:tensorflow:Early stopping conditioned on metric `vsl_loss` which is not available. Available metrics are: loss,accuracy,val_loss,val_accuracy\n"
     ]
    },
    {
     "name": "stderr",
     "output_type": "stream",
     "text": [
      "WARNING:tensorflow:Early stopping conditioned on metric `vsl_loss` which is not available. Available metrics are: loss,accuracy,val_loss,val_accuracy\n"
     ]
    },
    {
     "name": "stdout",
     "output_type": "stream",
     "text": [
      "3395/3395 [==============================] - 303s 89ms/step - loss: 0.2145 - accuracy: 0.9131 - val_loss: 0.2857 - val_accuracy: 0.8785 - lr: 0.0010\n",
      "Epoch 6/50\n",
      "3395/3395 [==============================] - ETA: 0s - loss: 0.2198 - accuracy: 0.9125\n",
      "Epoch 6: val_loss did not improve from 0.26584\n",
      "WARNING:tensorflow:Early stopping conditioned on metric `vsl_loss` which is not available. Available metrics are: loss,accuracy,val_loss,val_accuracy\n"
     ]
    },
    {
     "name": "stderr",
     "output_type": "stream",
     "text": [
      "WARNING:tensorflow:Early stopping conditioned on metric `vsl_loss` which is not available. Available metrics are: loss,accuracy,val_loss,val_accuracy\n"
     ]
    },
    {
     "name": "stdout",
     "output_type": "stream",
     "text": [
      "\n",
      "Epoch 6: ReduceLROnPlateau reducing learning rate to 0.00010000000474974513.\n",
      "3395/3395 [==============================] - 326s 96ms/step - loss: 0.2198 - accuracy: 0.9125 - val_loss: 0.2708 - val_accuracy: 0.8841 - lr: 0.0010\n",
      "Epoch 7/50\n",
      "3395/3395 [==============================] - ETA: 0s - loss: 0.2080 - accuracy: 0.9170\n",
      "Epoch 7: val_loss did not improve from 0.26584\n",
      "WARNING:tensorflow:Early stopping conditioned on metric `vsl_loss` which is not available. Available metrics are: loss,accuracy,val_loss,val_accuracy\n"
     ]
    },
    {
     "name": "stderr",
     "output_type": "stream",
     "text": [
      "WARNING:tensorflow:Early stopping conditioned on metric `vsl_loss` which is not available. Available metrics are: loss,accuracy,val_loss,val_accuracy\n"
     ]
    },
    {
     "name": "stdout",
     "output_type": "stream",
     "text": [
      "3395/3395 [==============================] - 313s 92ms/step - loss: 0.2080 - accuracy: 0.9170 - val_loss: 0.2689 - val_accuracy: 0.8869 - lr: 1.0000e-04\n",
      "Epoch 8/50\n",
      "3395/3395 [==============================] - ETA: 0s - loss: 0.1964 - accuracy: 0.9227\n",
      "Epoch 8: val_loss did not improve from 0.26584\n",
      "WARNING:tensorflow:Early stopping conditioned on metric `vsl_loss` which is not available. Available metrics are: loss,accuracy,val_loss,val_accuracy\n"
     ]
    },
    {
     "name": "stderr",
     "output_type": "stream",
     "text": [
      "WARNING:tensorflow:Early stopping conditioned on metric `vsl_loss` which is not available. Available metrics are: loss,accuracy,val_loss,val_accuracy\n"
     ]
    },
    {
     "name": "stdout",
     "output_type": "stream",
     "text": [
      "3395/3395 [==============================] - 320s 94ms/step - loss: 0.1964 - accuracy: 0.9227 - val_loss: 0.2710 - val_accuracy: 0.8858 - lr: 1.0000e-04\n",
      "Epoch 9/50\n",
      "3395/3395 [==============================] - ETA: 0s - loss: 0.1986 - accuracy: 0.9214\n",
      "Epoch 9: val_loss did not improve from 0.26584\n",
      "WARNING:tensorflow:Early stopping conditioned on metric `vsl_loss` which is not available. Available metrics are: loss,accuracy,val_loss,val_accuracy\n"
     ]
    },
    {
     "name": "stderr",
     "output_type": "stream",
     "text": [
      "WARNING:tensorflow:Early stopping conditioned on metric `vsl_loss` which is not available. Available metrics are: loss,accuracy,val_loss,val_accuracy\n"
     ]
    },
    {
     "name": "stdout",
     "output_type": "stream",
     "text": [
      "\n",
      "Epoch 9: ReduceLROnPlateau reducing learning rate to 1.0000000474974514e-05.\n",
      "3395/3395 [==============================] - 318s 94ms/step - loss: 0.1986 - accuracy: 0.9214 - val_loss: 0.2919 - val_accuracy: 0.8794 - lr: 1.0000e-04\n",
      "Epoch 10/50\n",
      "3395/3395 [==============================] - ETA: 0s - loss: 0.2012 - accuracy: 0.9194\n",
      "Epoch 10: val_loss did not improve from 0.26584\n",
      "WARNING:tensorflow:Early stopping conditioned on metric `vsl_loss` which is not available. Available metrics are: loss,accuracy,val_loss,val_accuracy\n"
     ]
    },
    {
     "name": "stderr",
     "output_type": "stream",
     "text": [
      "WARNING:tensorflow:Early stopping conditioned on metric `vsl_loss` which is not available. Available metrics are: loss,accuracy,val_loss,val_accuracy\n"
     ]
    },
    {
     "name": "stdout",
     "output_type": "stream",
     "text": [
      "3395/3395 [==============================] - 309s 91ms/step - loss: 0.2012 - accuracy: 0.9194 - val_loss: 0.2696 - val_accuracy: 0.8859 - lr: 1.0000e-05\n",
      "Epoch 11/50\n",
      "3395/3395 [==============================] - ETA: 0s - loss: 0.1967 - accuracy: 0.9231\n",
      "Epoch 11: val_loss did not improve from 0.26584\n",
      "WARNING:tensorflow:Early stopping conditioned on metric `vsl_loss` which is not available. Available metrics are: loss,accuracy,val_loss,val_accuracy\n"
     ]
    },
    {
     "name": "stderr",
     "output_type": "stream",
     "text": [
      "WARNING:tensorflow:Early stopping conditioned on metric `vsl_loss` which is not available. Available metrics are: loss,accuracy,val_loss,val_accuracy\n"
     ]
    },
    {
     "name": "stdout",
     "output_type": "stream",
     "text": [
      "3395/3395 [==============================] - 316s 93ms/step - loss: 0.1967 - accuracy: 0.9231 - val_loss: 0.2833 - val_accuracy: 0.8813 - lr: 1.0000e-05\n",
      "Epoch 12/50\n",
      "3395/3395 [==============================] - ETA: 0s - loss: 0.2007 - accuracy: 0.9223\n",
      "Epoch 12: val_loss did not improve from 0.26584\n",
      "WARNING:tensorflow:Early stopping conditioned on metric `vsl_loss` which is not available. Available metrics are: loss,accuracy,val_loss,val_accuracy\n"
     ]
    },
    {
     "name": "stderr",
     "output_type": "stream",
     "text": [
      "WARNING:tensorflow:Early stopping conditioned on metric `vsl_loss` which is not available. Available metrics are: loss,accuracy,val_loss,val_accuracy\n"
     ]
    },
    {
     "name": "stdout",
     "output_type": "stream",
     "text": [
      "\n",
      "Epoch 12: ReduceLROnPlateau reducing learning rate to 1.0000000656873453e-06.\n",
      "3395/3395 [==============================] - 328s 97ms/step - loss: 0.2007 - accuracy: 0.9223 - val_loss: 0.2747 - val_accuracy: 0.8893 - lr: 1.0000e-05\n",
      "Epoch 13/50\n",
      "3395/3395 [==============================] - ETA: 0s - loss: 0.1998 - accuracy: 0.9202\n",
      "Epoch 13: val_loss did not improve from 0.26584\n",
      "WARNING:tensorflow:Early stopping conditioned on metric `vsl_loss` which is not available. Available metrics are: loss,accuracy,val_loss,val_accuracy\n"
     ]
    },
    {
     "name": "stderr",
     "output_type": "stream",
     "text": [
      "WARNING:tensorflow:Early stopping conditioned on metric `vsl_loss` which is not available. Available metrics are: loss,accuracy,val_loss,val_accuracy\n"
     ]
    },
    {
     "name": "stdout",
     "output_type": "stream",
     "text": [
      "3395/3395 [==============================] - 314s 93ms/step - loss: 0.1998 - accuracy: 0.9202 - val_loss: 0.2797 - val_accuracy: 0.8806 - lr: 1.0000e-06\n",
      "Epoch 14/50\n",
      "3395/3395 [==============================] - ETA: 0s - loss: 0.2032 - accuracy: 0.9213\n",
      "Epoch 14: val_loss did not improve from 0.26584\n",
      "WARNING:tensorflow:Early stopping conditioned on metric `vsl_loss` which is not available. Available metrics are: loss,accuracy,val_loss,val_accuracy\n"
     ]
    },
    {
     "name": "stderr",
     "output_type": "stream",
     "text": [
      "WARNING:tensorflow:Early stopping conditioned on metric `vsl_loss` which is not available. Available metrics are: loss,accuracy,val_loss,val_accuracy\n"
     ]
    },
    {
     "name": "stdout",
     "output_type": "stream",
     "text": [
      "3395/3395 [==============================] - 316s 93ms/step - loss: 0.2032 - accuracy: 0.9213 - val_loss: 0.2750 - val_accuracy: 0.8859 - lr: 1.0000e-06\n",
      "Epoch 15/50\n",
      "3395/3395 [==============================] - ETA: 0s - loss: 0.1987 - accuracy: 0.9215\n",
      "Epoch 15: val_loss did not improve from 0.26584\n",
      "WARNING:tensorflow:Early stopping conditioned on metric `vsl_loss` which is not available. Available metrics are: loss,accuracy,val_loss,val_accuracy\n"
     ]
    },
    {
     "name": "stderr",
     "output_type": "stream",
     "text": [
      "WARNING:tensorflow:Early stopping conditioned on metric `vsl_loss` which is not available. Available metrics are: loss,accuracy,val_loss,val_accuracy\n"
     ]
    },
    {
     "name": "stdout",
     "output_type": "stream",
     "text": [
      "\n",
      "Epoch 15: ReduceLROnPlateau reducing learning rate to 1.0000001111620805e-07.\n",
      "3395/3395 [==============================] - 312s 92ms/step - loss: 0.1987 - accuracy: 0.9215 - val_loss: 0.2698 - val_accuracy: 0.8899 - lr: 1.0000e-06\n",
      "Epoch 16/50\n",
      "3395/3395 [==============================] - ETA: 0s - loss: 0.1978 - accuracy: 0.9198\n",
      "Epoch 16: val_loss improved from 0.26584 to 0.26465, saving model to C:\\Users\\Tanishq\\Drowsiness Detection\\model.h5\n",
      "WARNING:tensorflow:Early stopping conditioned on metric `vsl_loss` which is not available. Available metrics are: loss,accuracy,val_loss,val_accuracy\n"
     ]
    },
    {
     "name": "stderr",
     "output_type": "stream",
     "text": [
      "WARNING:tensorflow:Early stopping conditioned on metric `vsl_loss` which is not available. Available metrics are: loss,accuracy,val_loss,val_accuracy\n"
     ]
    },
    {
     "name": "stdout",
     "output_type": "stream",
     "text": [
      "3395/3395 [==============================] - 312s 92ms/step - loss: 0.1978 - accuracy: 0.9198 - val_loss: 0.2647 - val_accuracy: 0.8890 - lr: 1.0000e-07\n",
      "Epoch 17/50\n",
      "3395/3395 [==============================] - ETA: 0s - loss: 0.2029 - accuracy: 0.9197\n",
      "Epoch 17: val_loss did not improve from 0.26465\n",
      "WARNING:tensorflow:Early stopping conditioned on metric `vsl_loss` which is not available. Available metrics are: loss,accuracy,val_loss,val_accuracy\n"
     ]
    },
    {
     "name": "stderr",
     "output_type": "stream",
     "text": [
      "WARNING:tensorflow:Early stopping conditioned on metric `vsl_loss` which is not available. Available metrics are: loss,accuracy,val_loss,val_accuracy\n"
     ]
    },
    {
     "name": "stdout",
     "output_type": "stream",
     "text": [
      "3395/3395 [==============================] - 300s 88ms/step - loss: 0.2029 - accuracy: 0.9197 - val_loss: 0.2772 - val_accuracy: 0.8815 - lr: 1.0000e-07\n",
      "Epoch 18/50\n",
      "3395/3395 [==============================] - ETA: 0s - loss: 0.2049 - accuracy: 0.9177\n",
      "Epoch 18: val_loss did not improve from 0.26465\n",
      "WARNING:tensorflow:Early stopping conditioned on metric `vsl_loss` which is not available. Available metrics are: loss,accuracy,val_loss,val_accuracy\n"
     ]
    },
    {
     "name": "stderr",
     "output_type": "stream",
     "text": [
      "WARNING:tensorflow:Early stopping conditioned on metric `vsl_loss` which is not available. Available metrics are: loss,accuracy,val_loss,val_accuracy\n"
     ]
    },
    {
     "name": "stdout",
     "output_type": "stream",
     "text": [
      "3395/3395 [==============================] - 302s 89ms/step - loss: 0.2049 - accuracy: 0.9177 - val_loss: 0.2661 - val_accuracy: 0.8905 - lr: 1.0000e-07\n",
      "Epoch 19/50\n",
      "3395/3395 [==============================] - ETA: 0s - loss: 0.2037 - accuracy: 0.9190\n",
      "Epoch 19: val_loss did not improve from 0.26465\n",
      "WARNING:tensorflow:Early stopping conditioned on metric `vsl_loss` which is not available. Available metrics are: loss,accuracy,val_loss,val_accuracy\n"
     ]
    },
    {
     "name": "stderr",
     "output_type": "stream",
     "text": [
      "WARNING:tensorflow:Early stopping conditioned on metric `vsl_loss` which is not available. Available metrics are: loss,accuracy,val_loss,val_accuracy\n"
     ]
    },
    {
     "name": "stdout",
     "output_type": "stream",
     "text": [
      "\n",
      "Epoch 19: ReduceLROnPlateau reducing learning rate to 1.000000082740371e-08.\n",
      "3395/3395 [==============================] - 309s 91ms/step - loss: 0.2037 - accuracy: 0.9190 - val_loss: 0.2868 - val_accuracy: 0.8796 - lr: 1.0000e-07\n",
      "Epoch 20/50\n",
      "3395/3395 [==============================] - ETA: 0s - loss: 0.2090 - accuracy: 0.9169"
     ]
    },
    {
     "ename": "KeyboardInterrupt",
     "evalue": "",
     "output_type": "error",
     "traceback": [
      "\u001b[1;31m---------------------------------------------------------------------------\u001b[0m",
      "\u001b[1;31mKeyboardInterrupt\u001b[0m                         Traceback (most recent call last)",
      "\u001b[1;32m~\\AppData\\Local\\Temp\\ipykernel_5460\\3518192601.py\u001b[0m in \u001b[0;36m<module>\u001b[1;34m\u001b[0m\n\u001b[0;32m      1\u001b[0m \u001b[0mmodel\u001b[0m\u001b[1;33m.\u001b[0m\u001b[0mcompile\u001b[0m\u001b[1;33m(\u001b[0m\u001b[0moptimizer\u001b[0m\u001b[1;33m=\u001b[0m\u001b[1;34m'Adam'\u001b[0m\u001b[1;33m,\u001b[0m \u001b[0mloss\u001b[0m\u001b[1;33m=\u001b[0m\u001b[1;34m'categorical_crossentropy'\u001b[0m\u001b[1;33m,\u001b[0m \u001b[0mmetrics\u001b[0m \u001b[1;33m=\u001b[0m \u001b[1;33m[\u001b[0m\u001b[1;34m'accuracy'\u001b[0m\u001b[1;33m]\u001b[0m\u001b[1;33m)\u001b[0m\u001b[1;33m\u001b[0m\u001b[1;33m\u001b[0m\u001b[0m\n\u001b[1;32m----> 2\u001b[1;33m model.fit_generator(train_data,steps_per_epoch=train_data.samples//batchsize, \n\u001b[0m\u001b[0;32m      3\u001b[0m                     \u001b[0mvalidation_data\u001b[0m\u001b[1;33m=\u001b[0m \u001b[0mvalidation_data\u001b[0m\u001b[1;33m,\u001b[0m\u001b[1;33m\u001b[0m\u001b[1;33m\u001b[0m\u001b[0m\n\u001b[0;32m      4\u001b[0m                    \u001b[0mvalidation_steps\u001b[0m\u001b[1;33m=\u001b[0m \u001b[0mvalidation_data\u001b[0m\u001b[1;33m.\u001b[0m\u001b[0msamples\u001b[0m\u001b[1;33m//\u001b[0m\u001b[0mbatchsize\u001b[0m\u001b[1;33m,\u001b[0m\u001b[1;33m\u001b[0m\u001b[1;33m\u001b[0m\u001b[0m\n\u001b[0;32m      5\u001b[0m                    callbacks=callbacks, epochs=50)\n",
      "\u001b[1;32m~\\anaconda3\\lib\\site-packages\\keras\\engine\\training.py\u001b[0m in \u001b[0;36mfit_generator\u001b[1;34m(self, generator, steps_per_epoch, epochs, verbose, callbacks, validation_data, validation_steps, validation_freq, class_weight, max_queue_size, workers, use_multiprocessing, shuffle, initial_epoch)\u001b[0m\n\u001b[0;32m   2602\u001b[0m             \u001b[0mstacklevel\u001b[0m\u001b[1;33m=\u001b[0m\u001b[1;36m2\u001b[0m\u001b[1;33m,\u001b[0m\u001b[1;33m\u001b[0m\u001b[1;33m\u001b[0m\u001b[0m\n\u001b[0;32m   2603\u001b[0m         )\n\u001b[1;32m-> 2604\u001b[1;33m         return self.fit(\n\u001b[0m\u001b[0;32m   2605\u001b[0m             \u001b[0mgenerator\u001b[0m\u001b[1;33m,\u001b[0m\u001b[1;33m\u001b[0m\u001b[1;33m\u001b[0m\u001b[0m\n\u001b[0;32m   2606\u001b[0m             \u001b[0msteps_per_epoch\u001b[0m\u001b[1;33m=\u001b[0m\u001b[0msteps_per_epoch\u001b[0m\u001b[1;33m,\u001b[0m\u001b[1;33m\u001b[0m\u001b[1;33m\u001b[0m\u001b[0m\n",
      "\u001b[1;32m~\\anaconda3\\lib\\site-packages\\keras\\utils\\traceback_utils.py\u001b[0m in \u001b[0;36merror_handler\u001b[1;34m(*args, **kwargs)\u001b[0m\n\u001b[0;32m     63\u001b[0m         \u001b[0mfiltered_tb\u001b[0m \u001b[1;33m=\u001b[0m \u001b[1;32mNone\u001b[0m\u001b[1;33m\u001b[0m\u001b[1;33m\u001b[0m\u001b[0m\n\u001b[0;32m     64\u001b[0m         \u001b[1;32mtry\u001b[0m\u001b[1;33m:\u001b[0m\u001b[1;33m\u001b[0m\u001b[1;33m\u001b[0m\u001b[0m\n\u001b[1;32m---> 65\u001b[1;33m             \u001b[1;32mreturn\u001b[0m \u001b[0mfn\u001b[0m\u001b[1;33m(\u001b[0m\u001b[1;33m*\u001b[0m\u001b[0margs\u001b[0m\u001b[1;33m,\u001b[0m \u001b[1;33m**\u001b[0m\u001b[0mkwargs\u001b[0m\u001b[1;33m)\u001b[0m\u001b[1;33m\u001b[0m\u001b[1;33m\u001b[0m\u001b[0m\n\u001b[0m\u001b[0;32m     66\u001b[0m         \u001b[1;32mexcept\u001b[0m \u001b[0mException\u001b[0m \u001b[1;32mas\u001b[0m \u001b[0me\u001b[0m\u001b[1;33m:\u001b[0m\u001b[1;33m\u001b[0m\u001b[1;33m\u001b[0m\u001b[0m\n\u001b[0;32m     67\u001b[0m             \u001b[0mfiltered_tb\u001b[0m \u001b[1;33m=\u001b[0m \u001b[0m_process_traceback_frames\u001b[0m\u001b[1;33m(\u001b[0m\u001b[0me\u001b[0m\u001b[1;33m.\u001b[0m\u001b[0m__traceback__\u001b[0m\u001b[1;33m)\u001b[0m\u001b[1;33m\u001b[0m\u001b[1;33m\u001b[0m\u001b[0m\n",
      "\u001b[1;32m~\\anaconda3\\lib\\site-packages\\keras\\engine\\training.py\u001b[0m in \u001b[0;36mfit\u001b[1;34m(self, x, y, batch_size, epochs, verbose, callbacks, validation_split, validation_data, shuffle, class_weight, sample_weight, initial_epoch, steps_per_epoch, validation_steps, validation_batch_size, validation_freq, max_queue_size, workers, use_multiprocessing)\u001b[0m\n\u001b[0;32m   1692\u001b[0m                             \u001b[0msteps_per_execution\u001b[0m\u001b[1;33m=\u001b[0m\u001b[0mself\u001b[0m\u001b[1;33m.\u001b[0m\u001b[0m_steps_per_execution\u001b[0m\u001b[1;33m,\u001b[0m\u001b[1;33m\u001b[0m\u001b[1;33m\u001b[0m\u001b[0m\n\u001b[0;32m   1693\u001b[0m                         )\n\u001b[1;32m-> 1694\u001b[1;33m                     val_logs = self.evaluate(\n\u001b[0m\u001b[0;32m   1695\u001b[0m                         \u001b[0mx\u001b[0m\u001b[1;33m=\u001b[0m\u001b[0mval_x\u001b[0m\u001b[1;33m,\u001b[0m\u001b[1;33m\u001b[0m\u001b[1;33m\u001b[0m\u001b[0m\n\u001b[0;32m   1696\u001b[0m                         \u001b[0my\u001b[0m\u001b[1;33m=\u001b[0m\u001b[0mval_y\u001b[0m\u001b[1;33m,\u001b[0m\u001b[1;33m\u001b[0m\u001b[1;33m\u001b[0m\u001b[0m\n",
      "\u001b[1;32m~\\anaconda3\\lib\\site-packages\\keras\\utils\\traceback_utils.py\u001b[0m in \u001b[0;36merror_handler\u001b[1;34m(*args, **kwargs)\u001b[0m\n\u001b[0;32m     63\u001b[0m         \u001b[0mfiltered_tb\u001b[0m \u001b[1;33m=\u001b[0m \u001b[1;32mNone\u001b[0m\u001b[1;33m\u001b[0m\u001b[1;33m\u001b[0m\u001b[0m\n\u001b[0;32m     64\u001b[0m         \u001b[1;32mtry\u001b[0m\u001b[1;33m:\u001b[0m\u001b[1;33m\u001b[0m\u001b[1;33m\u001b[0m\u001b[0m\n\u001b[1;32m---> 65\u001b[1;33m             \u001b[1;32mreturn\u001b[0m \u001b[0mfn\u001b[0m\u001b[1;33m(\u001b[0m\u001b[1;33m*\u001b[0m\u001b[0margs\u001b[0m\u001b[1;33m,\u001b[0m \u001b[1;33m**\u001b[0m\u001b[0mkwargs\u001b[0m\u001b[1;33m)\u001b[0m\u001b[1;33m\u001b[0m\u001b[1;33m\u001b[0m\u001b[0m\n\u001b[0m\u001b[0;32m     66\u001b[0m         \u001b[1;32mexcept\u001b[0m \u001b[0mException\u001b[0m \u001b[1;32mas\u001b[0m \u001b[0me\u001b[0m\u001b[1;33m:\u001b[0m\u001b[1;33m\u001b[0m\u001b[1;33m\u001b[0m\u001b[0m\n\u001b[0;32m     67\u001b[0m             \u001b[0mfiltered_tb\u001b[0m \u001b[1;33m=\u001b[0m \u001b[0m_process_traceback_frames\u001b[0m\u001b[1;33m(\u001b[0m\u001b[0me\u001b[0m\u001b[1;33m.\u001b[0m\u001b[0m__traceback__\u001b[0m\u001b[1;33m)\u001b[0m\u001b[1;33m\u001b[0m\u001b[1;33m\u001b[0m\u001b[0m\n",
      "\u001b[1;32m~\\anaconda3\\lib\\site-packages\\keras\\engine\\training.py\u001b[0m in \u001b[0;36mevaluate\u001b[1;34m(self, x, y, batch_size, verbose, sample_weight, steps, callbacks, max_queue_size, workers, use_multiprocessing, return_dict, **kwargs)\u001b[0m\n\u001b[0;32m   2038\u001b[0m                         ):\n\u001b[0;32m   2039\u001b[0m                             \u001b[0mcallbacks\u001b[0m\u001b[1;33m.\u001b[0m\u001b[0mon_test_batch_begin\u001b[0m\u001b[1;33m(\u001b[0m\u001b[0mstep\u001b[0m\u001b[1;33m)\u001b[0m\u001b[1;33m\u001b[0m\u001b[1;33m\u001b[0m\u001b[0m\n\u001b[1;32m-> 2040\u001b[1;33m                             \u001b[0mtmp_logs\u001b[0m \u001b[1;33m=\u001b[0m \u001b[0mself\u001b[0m\u001b[1;33m.\u001b[0m\u001b[0mtest_function\u001b[0m\u001b[1;33m(\u001b[0m\u001b[0miterator\u001b[0m\u001b[1;33m)\u001b[0m\u001b[1;33m\u001b[0m\u001b[1;33m\u001b[0m\u001b[0m\n\u001b[0m\u001b[0;32m   2041\u001b[0m                             \u001b[1;32mif\u001b[0m \u001b[0mdata_handler\u001b[0m\u001b[1;33m.\u001b[0m\u001b[0mshould_sync\u001b[0m\u001b[1;33m:\u001b[0m\u001b[1;33m\u001b[0m\u001b[1;33m\u001b[0m\u001b[0m\n\u001b[0;32m   2042\u001b[0m                                 \u001b[0mcontext\u001b[0m\u001b[1;33m.\u001b[0m\u001b[0masync_wait\u001b[0m\u001b[1;33m(\u001b[0m\u001b[1;33m)\u001b[0m\u001b[1;33m\u001b[0m\u001b[1;33m\u001b[0m\u001b[0m\n",
      "\u001b[1;32m~\\anaconda3\\lib\\site-packages\\tensorflow\\python\\util\\traceback_utils.py\u001b[0m in \u001b[0;36merror_handler\u001b[1;34m(*args, **kwargs)\u001b[0m\n\u001b[0;32m    148\u001b[0m     \u001b[0mfiltered_tb\u001b[0m \u001b[1;33m=\u001b[0m \u001b[1;32mNone\u001b[0m\u001b[1;33m\u001b[0m\u001b[1;33m\u001b[0m\u001b[0m\n\u001b[0;32m    149\u001b[0m     \u001b[1;32mtry\u001b[0m\u001b[1;33m:\u001b[0m\u001b[1;33m\u001b[0m\u001b[1;33m\u001b[0m\u001b[0m\n\u001b[1;32m--> 150\u001b[1;33m       \u001b[1;32mreturn\u001b[0m \u001b[0mfn\u001b[0m\u001b[1;33m(\u001b[0m\u001b[1;33m*\u001b[0m\u001b[0margs\u001b[0m\u001b[1;33m,\u001b[0m \u001b[1;33m**\u001b[0m\u001b[0mkwargs\u001b[0m\u001b[1;33m)\u001b[0m\u001b[1;33m\u001b[0m\u001b[1;33m\u001b[0m\u001b[0m\n\u001b[0m\u001b[0;32m    151\u001b[0m     \u001b[1;32mexcept\u001b[0m \u001b[0mException\u001b[0m \u001b[1;32mas\u001b[0m \u001b[0me\u001b[0m\u001b[1;33m:\u001b[0m\u001b[1;33m\u001b[0m\u001b[1;33m\u001b[0m\u001b[0m\n\u001b[0;32m    152\u001b[0m       \u001b[0mfiltered_tb\u001b[0m \u001b[1;33m=\u001b[0m \u001b[0m_process_traceback_frames\u001b[0m\u001b[1;33m(\u001b[0m\u001b[0me\u001b[0m\u001b[1;33m.\u001b[0m\u001b[0m__traceback__\u001b[0m\u001b[1;33m)\u001b[0m\u001b[1;33m\u001b[0m\u001b[1;33m\u001b[0m\u001b[0m\n",
      "\u001b[1;32m~\\anaconda3\\lib\\site-packages\\tensorflow\\python\\eager\\polymorphic_function\\polymorphic_function.py\u001b[0m in \u001b[0;36m__call__\u001b[1;34m(self, *args, **kwds)\u001b[0m\n\u001b[0;32m    878\u001b[0m \u001b[1;33m\u001b[0m\u001b[0m\n\u001b[0;32m    879\u001b[0m       \u001b[1;32mwith\u001b[0m \u001b[0mOptionalXlaContext\u001b[0m\u001b[1;33m(\u001b[0m\u001b[0mself\u001b[0m\u001b[1;33m.\u001b[0m\u001b[0m_jit_compile\u001b[0m\u001b[1;33m)\u001b[0m\u001b[1;33m:\u001b[0m\u001b[1;33m\u001b[0m\u001b[1;33m\u001b[0m\u001b[0m\n\u001b[1;32m--> 880\u001b[1;33m         \u001b[0mresult\u001b[0m \u001b[1;33m=\u001b[0m \u001b[0mself\u001b[0m\u001b[1;33m.\u001b[0m\u001b[0m_call\u001b[0m\u001b[1;33m(\u001b[0m\u001b[1;33m*\u001b[0m\u001b[0margs\u001b[0m\u001b[1;33m,\u001b[0m \u001b[1;33m**\u001b[0m\u001b[0mkwds\u001b[0m\u001b[1;33m)\u001b[0m\u001b[1;33m\u001b[0m\u001b[1;33m\u001b[0m\u001b[0m\n\u001b[0m\u001b[0;32m    881\u001b[0m \u001b[1;33m\u001b[0m\u001b[0m\n\u001b[0;32m    882\u001b[0m       \u001b[0mnew_tracing_count\u001b[0m \u001b[1;33m=\u001b[0m \u001b[0mself\u001b[0m\u001b[1;33m.\u001b[0m\u001b[0mexperimental_get_tracing_count\u001b[0m\u001b[1;33m(\u001b[0m\u001b[1;33m)\u001b[0m\u001b[1;33m\u001b[0m\u001b[1;33m\u001b[0m\u001b[0m\n",
      "\u001b[1;32m~\\anaconda3\\lib\\site-packages\\tensorflow\\python\\eager\\polymorphic_function\\polymorphic_function.py\u001b[0m in \u001b[0;36m_call\u001b[1;34m(self, *args, **kwds)\u001b[0m\n\u001b[0;32m    917\u001b[0m       \u001b[1;31m# In this case we have not created variables on the first call. So we can\u001b[0m\u001b[1;33m\u001b[0m\u001b[1;33m\u001b[0m\u001b[0m\n\u001b[0;32m    918\u001b[0m       \u001b[1;31m# run the first trace but we should fail if variables are created.\u001b[0m\u001b[1;33m\u001b[0m\u001b[1;33m\u001b[0m\u001b[0m\n\u001b[1;32m--> 919\u001b[1;33m       \u001b[0mresults\u001b[0m \u001b[1;33m=\u001b[0m \u001b[0mself\u001b[0m\u001b[1;33m.\u001b[0m\u001b[0m_variable_creation_fn\u001b[0m\u001b[1;33m(\u001b[0m\u001b[1;33m*\u001b[0m\u001b[0margs\u001b[0m\u001b[1;33m,\u001b[0m \u001b[1;33m**\u001b[0m\u001b[0mkwds\u001b[0m\u001b[1;33m)\u001b[0m\u001b[1;33m\u001b[0m\u001b[1;33m\u001b[0m\u001b[0m\n\u001b[0m\u001b[0;32m    920\u001b[0m       \u001b[1;32mif\u001b[0m \u001b[0mself\u001b[0m\u001b[1;33m.\u001b[0m\u001b[0m_created_variables\u001b[0m \u001b[1;32mand\u001b[0m \u001b[1;32mnot\u001b[0m \u001b[0mALLOW_DYNAMIC_VARIABLE_CREATION\u001b[0m\u001b[1;33m:\u001b[0m\u001b[1;33m\u001b[0m\u001b[1;33m\u001b[0m\u001b[0m\n\u001b[0;32m    921\u001b[0m         raise ValueError(\"Creating variables on a non-first call to a function\"\n",
      "\u001b[1;32m~\\anaconda3\\lib\\site-packages\\tensorflow\\python\\eager\\polymorphic_function\\tracing_compiler.py\u001b[0m in \u001b[0;36m__call__\u001b[1;34m(self, *args, **kwargs)\u001b[0m\n\u001b[0;32m    132\u001b[0m       (concrete_function,\n\u001b[0;32m    133\u001b[0m        filtered_flat_args) = self._maybe_define_function(args, kwargs)\n\u001b[1;32m--> 134\u001b[1;33m     return concrete_function._call_flat(\n\u001b[0m\u001b[0;32m    135\u001b[0m         filtered_flat_args, captured_inputs=concrete_function.captured_inputs)  # pylint: disable=protected-access\n\u001b[0;32m    136\u001b[0m \u001b[1;33m\u001b[0m\u001b[0m\n",
      "\u001b[1;32m~\\anaconda3\\lib\\site-packages\\tensorflow\\python\\eager\\polymorphic_function\\monomorphic_function.py\u001b[0m in \u001b[0;36m_call_flat\u001b[1;34m(self, args, captured_inputs, cancellation_manager)\u001b[0m\n\u001b[0;32m   1743\u001b[0m         and executing_eagerly):\n\u001b[0;32m   1744\u001b[0m       \u001b[1;31m# No tape is watching; skip to running the function.\u001b[0m\u001b[1;33m\u001b[0m\u001b[1;33m\u001b[0m\u001b[0m\n\u001b[1;32m-> 1745\u001b[1;33m       return self._build_call_outputs(self._inference_function.call(\n\u001b[0m\u001b[0;32m   1746\u001b[0m           ctx, args, cancellation_manager=cancellation_manager))\n\u001b[0;32m   1747\u001b[0m     forward_backward = self._select_forward_and_backward_functions(\n",
      "\u001b[1;32m~\\anaconda3\\lib\\site-packages\\tensorflow\\python\\eager\\polymorphic_function\\monomorphic_function.py\u001b[0m in \u001b[0;36mcall\u001b[1;34m(self, ctx, args, cancellation_manager)\u001b[0m\n\u001b[0;32m    376\u001b[0m       \u001b[1;32mwith\u001b[0m \u001b[0m_InterpolateFunctionError\u001b[0m\u001b[1;33m(\u001b[0m\u001b[0mself\u001b[0m\u001b[1;33m)\u001b[0m\u001b[1;33m:\u001b[0m\u001b[1;33m\u001b[0m\u001b[1;33m\u001b[0m\u001b[0m\n\u001b[0;32m    377\u001b[0m         \u001b[1;32mif\u001b[0m \u001b[0mcancellation_manager\u001b[0m \u001b[1;32mis\u001b[0m \u001b[1;32mNone\u001b[0m\u001b[1;33m:\u001b[0m\u001b[1;33m\u001b[0m\u001b[1;33m\u001b[0m\u001b[0m\n\u001b[1;32m--> 378\u001b[1;33m           outputs = execute.execute(\n\u001b[0m\u001b[0;32m    379\u001b[0m               \u001b[0mstr\u001b[0m\u001b[1;33m(\u001b[0m\u001b[0mself\u001b[0m\u001b[1;33m.\u001b[0m\u001b[0msignature\u001b[0m\u001b[1;33m.\u001b[0m\u001b[0mname\u001b[0m\u001b[1;33m)\u001b[0m\u001b[1;33m,\u001b[0m\u001b[1;33m\u001b[0m\u001b[1;33m\u001b[0m\u001b[0m\n\u001b[0;32m    380\u001b[0m               \u001b[0mnum_outputs\u001b[0m\u001b[1;33m=\u001b[0m\u001b[0mself\u001b[0m\u001b[1;33m.\u001b[0m\u001b[0m_num_outputs\u001b[0m\u001b[1;33m,\u001b[0m\u001b[1;33m\u001b[0m\u001b[1;33m\u001b[0m\u001b[0m\n",
      "\u001b[1;32m~\\anaconda3\\lib\\site-packages\\tensorflow\\python\\eager\\execute.py\u001b[0m in \u001b[0;36mquick_execute\u001b[1;34m(op_name, num_outputs, inputs, attrs, ctx, name)\u001b[0m\n\u001b[0;32m     50\u001b[0m   \u001b[1;32mtry\u001b[0m\u001b[1;33m:\u001b[0m\u001b[1;33m\u001b[0m\u001b[1;33m\u001b[0m\u001b[0m\n\u001b[0;32m     51\u001b[0m     \u001b[0mctx\u001b[0m\u001b[1;33m.\u001b[0m\u001b[0mensure_initialized\u001b[0m\u001b[1;33m(\u001b[0m\u001b[1;33m)\u001b[0m\u001b[1;33m\u001b[0m\u001b[1;33m\u001b[0m\u001b[0m\n\u001b[1;32m---> 52\u001b[1;33m     tensors = pywrap_tfe.TFE_Py_Execute(ctx._handle, device_name, op_name,\n\u001b[0m\u001b[0;32m     53\u001b[0m                                         inputs, attrs, num_outputs)\n\u001b[0;32m     54\u001b[0m   \u001b[1;32mexcept\u001b[0m \u001b[0mcore\u001b[0m\u001b[1;33m.\u001b[0m\u001b[0m_NotOkStatusException\u001b[0m \u001b[1;32mas\u001b[0m \u001b[0me\u001b[0m\u001b[1;33m:\u001b[0m\u001b[1;33m\u001b[0m\u001b[1;33m\u001b[0m\u001b[0m\n",
      "\u001b[1;31mKeyboardInterrupt\u001b[0m: "
     ]
    }
   ],
   "source": [
    "model.compile(optimizer='Adam', loss='categorical_crossentropy', metrics = ['accuracy'])\n",
    "model.fit_generator(train_data,steps_per_epoch=train_data.samples//batchsize, \n",
    "                    validation_data= validation_data,\n",
    "                   validation_steps= validation_data.samples//batchsize,\n",
    "                   callbacks=callbacks, epochs=50)"
   ]
  },
  {
   "cell_type": "markdown",
   "id": "e37b18c8",
   "metadata": {},
   "source": [
    "# Model Evaluation"
   ]
  },
  {
   "cell_type": "code",
   "execution_count": 42,
   "id": "bb30b60b",
   "metadata": {},
   "outputs": [
    {
     "name": "stderr",
     "output_type": "stream",
     "text": [
      "C:\\Users\\Tanishq\\AppData\\Local\\Temp\\ipykernel_5460\\3486183391.py:1: UserWarning: `Model.evaluate_generator` is deprecated and will be removed in a future version. Please use `Model.evaluate`, which supports generators.\n",
      "  acc,loss = model.evaluate_generator(train_data) #for train data\n"
     ]
    },
    {
     "name": "stdout",
     "output_type": "stream",
     "text": [
      "0.1804346740245819\n",
      "0.9290683269500732\n"
     ]
    }
   ],
   "source": [
    "acc,loss = model.evaluate_generator(train_data) #for train data\n",
    "print(acc)\n",
    "print(loss)"
   ]
  },
  {
   "cell_type": "code",
   "execution_count": 43,
   "id": "2f3af00e",
   "metadata": {},
   "outputs": [
    {
     "name": "stderr",
     "output_type": "stream",
     "text": [
      "C:\\Users\\Tanishq\\AppData\\Local\\Temp\\ipykernel_5460\\2063621665.py:1: UserWarning: `Model.evaluate_generator` is deprecated and will be removed in a future version. Please use `Model.evaluate`, which supports generators.\n",
      "  acc,loss = model.evaluate_generator(validation_data)# for validation data\n"
     ]
    },
    {
     "name": "stdout",
     "output_type": "stream",
     "text": [
      "0.27528059482574463\n",
      "0.8855186700820923\n"
     ]
    }
   ],
   "source": [
    "acc,loss = model.evaluate_generator(validation_data)# for validation data\n",
    "print(acc)\n",
    "print(loss)"
   ]
  },
  {
   "cell_type": "code",
   "execution_count": 44,
   "id": "9447e65c",
   "metadata": {},
   "outputs": [
    {
     "name": "stderr",
     "output_type": "stream",
     "text": [
      "C:\\Users\\Tanishq\\AppData\\Local\\Temp\\ipykernel_5460\\304905649.py:1: UserWarning: `Model.evaluate_generator` is deprecated and will be removed in a future version. Please use `Model.evaluate`, which supports generators.\n",
      "  acc,loss = model.evaluate_generator(test_data)#for test data\n"
     ]
    },
    {
     "name": "stdout",
     "output_type": "stream",
     "text": [
      "0.14679281413555145\n",
      "0.9478240609169006\n"
     ]
    }
   ],
   "source": [
    "acc,loss = model.evaluate_generator(test_data)#for test data\n",
    "print(acc)\n",
    "print(loss)"
   ]
  },
  {
   "cell_type": "code",
   "execution_count": null,
   "id": "41f9bd3b",
   "metadata": {},
   "outputs": [],
   "source": []
  },
  {
   "cell_type": "code",
   "execution_count": null,
   "id": "c61b797e",
   "metadata": {},
   "outputs": [],
   "source": []
  }
 ],
 "metadata": {
  "kernelspec": {
   "display_name": "Python 3 (ipykernel)",
   "language": "python",
   "name": "python3"
  },
  "language_info": {
   "codemirror_mode": {
    "name": "ipython",
    "version": 3
   },
   "file_extension": ".py",
   "mimetype": "text/x-python",
   "name": "python",
   "nbconvert_exporter": "python",
   "pygments_lexer": "ipython3",
   "version": "3.9.13"
  }
 },
 "nbformat": 4,
 "nbformat_minor": 5
}
